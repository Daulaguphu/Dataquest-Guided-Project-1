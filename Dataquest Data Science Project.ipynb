{
 "cells": [
  {
   "cell_type": "markdown",
   "metadata": {},
   "source": [
    "# Profitable Mobile App Profile for Android and Apple Market"
   ]
  },
  {
   "cell_type": "markdown",
   "metadata": {},
   "source": [
    "The main goal of this project is to get some key characteristics of profitable mobile application for Google Play Store (Android) and App Store (Apple) market. I'm working as Data Analyst in a company building Android and iOS apps. My job is to provide data analysis regarding apps that want to be build. \n",
    "\n",
    "At the moment, the developer team is developing a free-app which has in-app ads. This means the revenue will be based on the number of user using our app, since the more users use and engage with our app, the better. Our goal for this project is to analyze data to help our developers understand what kinds of apps are likely to attract more users."
   ]
  },
  {
   "cell_type": "markdown",
   "metadata": {
    "slideshow": {
     "slide_type": "-"
    }
   },
   "source": [
    "## Opening and Exploring the Data"
   ]
  },
  {
   "cell_type": "markdown",
   "metadata": {},
   "source": [
    "By September 2018, there were around 2 million iOS apps on Apps Store and 2.1 million Android apps on Google Play Store. Collecting this 4-million data will be time-consuming and need a lot of resource. So, we will try to find data samples and analyze it. Fortunately, there are these two data set that can help us :\n",
    "- __[A data set](https://www.kaggle.com/lava18/google-play-store-apps/home)__ containing approx. ten thousand Android apps from Google Play\n",
    "- __[A data set](https://www.kaggle.com/ramamet4/app-store-apple-data-set-10k-apps/home)__ containing approx. seven thousand iOS apps from App Store"
   ]
  },
  {
   "cell_type": "markdown",
   "metadata": {},
   "source": [
    "To make it easier to explore the data, we will make function named `explore_dataset()` that takes in the data set, index of start and end row, also the Boolean parameter to show the number of row and column (_if true_)"
   ]
  },
  {
   "cell_type": "code",
   "execution_count": 33,
   "metadata": {},
   "outputs": [],
   "source": [
    "def explore_dataset(data_set, start, end, show_rowcol = False):    \n",
    "    data_slices = data_set[start:end]\n",
    "    for row in data_slices:\n",
    "        print(row)\n",
    "        print('\\n')\n",
    "        \n",
    "    if show_rowcol:\n",
    "        print('Number of rows: ', len(data_set))\n",
    "        print('Number of columns: ', len(data_set[0]))\n",
    "        print('\\n')"
   ]
  },
  {
   "cell_type": "markdown",
   "metadata": {},
   "source": [
    "Now, we can start open the data first."
   ]
  },
  {
   "cell_type": "code",
   "execution_count": 34,
   "metadata": {},
   "outputs": [],
   "source": [
    "## Open AppleStore.csv ##\n",
    "opened_file_apple = open('Dataset\\AppleStore.csv', encoding='utf-8')\n",
    "from csv import reader\n",
    "read_file_apple = reader(opened_file_apple)\n",
    "apps_data_apple = list(read_file_apple)\n",
    "apple_header = apps_data_apple[0]\n",
    "apple = apps_data_apple[1:]\n",
    "\n",
    "## Open googleplaystore.csv ##\n",
    "opened_file_google = open('Dataset\\googleplaystore.csv', encoding='utf-8')\n",
    "from csv import reader\n",
    "read_file_google = reader(opened_file_google)\n",
    "apps_data_google = list(read_file_google)\n",
    "google_header = apps_data_google[0]\n",
    "google = apps_data_google[1:]"
   ]
  },
  {
   "cell_type": "markdown",
   "metadata": {},
   "source": [
    "The, we use the `explore_dataset()` function to give us a brief overview about these data sets."
   ]
  },
  {
   "cell_type": "code",
   "execution_count": 35,
   "metadata": {},
   "outputs": [
    {
     "name": "stdout",
     "output_type": "stream",
     "text": [
      "['', 'id', 'track_name', 'size_bytes', 'currency', 'price', 'rating_count_tot', 'rating_count_ver', 'user_rating', 'user_rating_ver', 'ver', 'cont_rating', 'prime_genre', 'sup_devices.num', 'ipadSc_urls.num', 'lang.num', 'vpp_lic'] \n",
      "\n",
      "['1', '281656475', 'PAC-MAN Premium', '100788224', 'USD', '3.99', '21292', '26', '4', '4.5', '6.3.5', '4+', 'Games', '38', '5', '10', '1']\n",
      "\n",
      "\n",
      "['2', '281796108', 'Evernote - stay organized', '158578688', 'USD', '0', '161065', '26', '4', '3.5', '8.2.2', '4+', 'Productivity', '37', '5', '23', '1']\n",
      "\n",
      "\n",
      "['3', '281940292', 'WeatherBug - Local Weather, Radar, Maps, Alerts', '100524032', 'USD', '0', '188583', '2822', '3.5', '4.5', '5.0.0', '4+', 'Weather', '37', '5', '3', '1']\n",
      "\n",
      "\n",
      "Number of rows:  7197\n",
      "Number of columns:  17\n",
      "\n",
      "\n",
      "['App', 'Category', 'Rating', 'Reviews', 'Size', 'Installs', 'Type', 'Price', 'Content Rating', 'Genres', 'Last Updated', 'Current Ver', 'Android Ver'] \n",
      "\n",
      "['Photo Editor & Candy Camera & Grid & ScrapBook', 'ART_AND_DESIGN', '4.1', '159', '19M', '10,000+', 'Free', '0', 'Everyone', 'Art & Design', 'January 7, 2018', '1.0.0', '4.0.3 and up']\n",
      "\n",
      "\n",
      "['Coloring book moana', 'ART_AND_DESIGN', '3.9', '967', '14M', '500,000+', 'Free', '0', 'Everyone', 'Art & Design;Pretend Play', 'January 15, 2018', '2.0.0', '4.0.3 and up']\n",
      "\n",
      "\n",
      "['U Launcher Lite – FREE Live Cool Themes, Hide Apps', 'ART_AND_DESIGN', '4.7', '87510', '8.7M', '5,000,000+', 'Free', '0', 'Everyone', 'Art & Design', 'August 1, 2018', '1.2.4', '4.0.3 and up']\n",
      "\n",
      "\n",
      "Number of rows:  10841\n",
      "Number of columns:  13\n",
      "\n",
      "\n"
     ]
    }
   ],
   "source": [
    "print(apple_header,'\\n')\n",
    "explore_dataset(apple, 0, 3, True)\n",
    "\n",
    "print(google_header,'\\n')\n",
    "explore_dataset(google, 0, 3, True)"
   ]
  },
  {
   "cell_type": "markdown",
   "metadata": {},
   "source": [
    "For the App Store data set, we can see that it has 7197 iOS apps and columns that may be useful for our analysis are : 'price', 'user_rating', 'prime_genre', and etc. While for Google Play data set, it has 10841 Android apps data on Google Play. The columns that we maybe can use for further analysis are : 'Category', 'Rating', 'Genres', 'Price' and etc."
   ]
  },
  {
   "cell_type": "markdown",
   "metadata": {},
   "source": [
    "## Data Cleaning"
   ]
  },
  {
   "cell_type": "markdown",
   "metadata": {},
   "source": [
    "After exploring the data sets and have general information about what the data sets are like and what kind of information it has, we can start cleaning the data sets before stepping into analysis stage. The data cleaning process is **very important** to make sure that the data set we had has met our criteria and to make sure the conclusion resulted from these data set is correct."
   ]
  },
  {
   "cell_type": "markdown",
   "metadata": {},
   "source": [
    "Our company will only build free-apps and only for English-speaking audience which means that we will only analyze mobile app data that are free and can be used by English-speaking people by deleting mobile apps data that doesn't meet this requirements. We will do this Data Cleaning process trough several steps as below :"
   ]
  },
  {
   "cell_type": "markdown",
   "metadata": {},
   "source": [
    "### Deleting Wrong Data"
   ]
  },
  {
   "cell_type": "markdown",
   "metadata": {},
   "source": [
    "If we pay attention the discussion forum on Google Play data set, we can find that there is wrong data in our data set as discussed in __[here](https://www.kaggle.com/lava18/google-play-store-apps/discussion/66015)__. First, we need to check the data of the wrong data by printing it. From the discussion, it seems that the wrong data is in index 10472 (without header row)"
   ]
  },
  {
   "cell_type": "code",
   "execution_count": 36,
   "metadata": {},
   "outputs": [
    {
     "name": "stdout",
     "output_type": "stream",
     "text": [
      "['App', 'Category', 'Rating', 'Reviews', 'Size', 'Installs', 'Type', 'Price', 'Content Rating', 'Genres', 'Last Updated', 'Current Ver', 'Android Ver'] \n",
      "\n",
      "['Life Made WI-Fi Touchscreen Photo Frame', '1.9', '19', '3.0M', '1,000+', 'Free', '0', 'Everyone', '', 'February 11, 2018', '1.0.19', '4.0 and up'] \n",
      "\n"
     ]
    }
   ],
   "source": [
    "print(google_header,'\\n')\n",
    "print(google[10472],'\\n')"
   ]
  },
  {
   "cell_type": "markdown",
   "metadata": {},
   "source": [
    "The data in row 10472 is wrong as we can see from the result above. The rating is **19** while the maximum value of app rating on Google Play is 5. So, we need to delete this data."
   ]
  },
  {
   "cell_type": "code",
   "execution_count": 37,
   "metadata": {
    "scrolled": true
   },
   "outputs": [
    {
     "name": "stdout",
     "output_type": "stream",
     "text": [
      "10841\n",
      "10840\n"
     ]
    }
   ],
   "source": [
    "print(len(google))\n",
    "del google[10472]\n",
    "print(len(google))"
   ]
  },
  {
   "cell_type": "markdown",
   "metadata": {},
   "source": [
    "We delete the data using **del** statement and we recheck again if the data has been deleted by checking the number of rows on our Google Play data set. As we can see above, the number of rows is decreased by one meaning that one data has been deleted. If we check the data from index 10472, it will show different data than before :"
   ]
  },
  {
   "cell_type": "code",
   "execution_count": 38,
   "metadata": {},
   "outputs": [
    {
     "name": "stdout",
     "output_type": "stream",
     "text": [
      "['osmino Wi-Fi: free WiFi', 'TOOLS', '4.2', '134203', '4.1M', '10,000,000+', 'Free', '0', 'Everyone', 'Tools', 'August 7, 2018', '6.06.14', '4.4 and up']\n"
     ]
    }
   ],
   "source": [
    "print(google[10472])"
   ]
  },
  {
   "cell_type": "markdown",
   "metadata": {},
   "source": [
    "### Removing Duplicate Entries"
   ]
  },
  {
   "cell_type": "markdown",
   "metadata": {},
   "source": [
    "If we go through the discussion forum on Google Play data set ([here](https://www.kaggle.com/lava18/google-play-store-apps/discussion)), we'll find that our Google Play data set has some duplicate entries. So, first we need to check what applications that have duplicate entries."
   ]
  },
  {
   "cell_type": "code",
   "execution_count": 39,
   "metadata": {},
   "outputs": [
    {
     "name": "stdout",
     "output_type": "stream",
     "text": [
      "Number of unique apps :  9659\n",
      "Number of duplicate apps :  1181\n"
     ]
    }
   ],
   "source": [
    "duplicate_apps = []\n",
    "unique_apps = []\n",
    "\n",
    "for app in google:\n",
    "    if app[0] in unique_apps:\n",
    "        duplicate_apps.append(app[0])\n",
    "    else:\n",
    "        unique_apps.append(app[0])\n",
    "        \n",
    "print('Number of unique apps : ', len(unique_apps))\n",
    "print('Number of duplicate apps : ', len(duplicate_apps))"
   ]
  },
  {
   "cell_type": "markdown",
   "metadata": {},
   "source": [
    "As we can see above, the number of duplicate apps are 1181. Next, we need to check what's the difference in the duplicate apps."
   ]
  },
  {
   "cell_type": "code",
   "execution_count": 40,
   "metadata": {},
   "outputs": [
    {
     "name": "stdout",
     "output_type": "stream",
     "text": [
      "['Quick PDF Scanner + OCR FREE', 'Box', 'Google My Business', 'ZOOM Cloud Meetings', 'join.me - Simple Meetings', 'Box', 'Zenefits', 'Google Ads', 'Google My Business', 'Slack', 'FreshBooks Classic', 'Insightly CRM', 'QuickBooks Accounting: Invoicing & Expenses', 'HipChat - Chat Built for Teams', 'Xero Accounting Software']\n"
     ]
    }
   ],
   "source": [
    "print(duplicate_apps[:15])"
   ]
  },
  {
   "cell_type": "code",
   "execution_count": 41,
   "metadata": {},
   "outputs": [
    {
     "name": "stdout",
     "output_type": "stream",
     "text": [
      "['Google Ads', 'BUSINESS', '4.3', '29313', '20M', '5,000,000+', 'Free', '0', 'Everyone', 'Business', 'July 30, 2018', '1.12.0', '4.0.3 and up']\n",
      "['Google Ads', 'BUSINESS', '4.3', '29313', '20M', '5,000,000+', 'Free', '0', 'Everyone', 'Business', 'July 30, 2018', '1.12.0', '4.0.3 and up']\n",
      "['Google Ads', 'BUSINESS', '4.3', '29331', '20M', '5,000,000+', 'Free', '0', 'Everyone', 'Business', 'July 30, 2018', '1.12.0', '4.0.3 and up']\n"
     ]
    }
   ],
   "source": [
    "for app in google:\n",
    "    if app[0] == 'Google Ads':\n",
    "        print(app)"
   ]
  },
  {
   "cell_type": "markdown",
   "metadata": {},
   "source": [
    "From one of the example, we can conclude that one of main difference between these duplicate apps is on the data index 3 which corresponds to number of reviews given. This can be used as one of the criteria to removing duplicate entries. We don't want to analyze duplicate app information so we need to remove these data but not randomly. "
   ]
  },
  {
   "cell_type": "markdown",
   "metadata": {},
   "source": [
    "In the next step, we will try to delete duplicate data by checking the number of reviews (data in index number 3) and keep the Google Play apps data with highest review number among duplicate entries. We will implement this by utlizing dictionary variable. We will use apps name as the key and number of reviews as the value."
   ]
  },
  {
   "cell_type": "code",
   "execution_count": 42,
   "metadata": {},
   "outputs": [
    {
     "name": "stdout",
     "output_type": "stream",
     "text": [
      "9659\n"
     ]
    }
   ],
   "source": [
    "app_dict = {}\n",
    "\n",
    "for app in google:\n",
    "    name = app[0]\n",
    "    n_reviews = float(app[3])\n",
    "    \n",
    "    if name in app_dict and app_dict[name] < n_reviews:\n",
    "        app_dict[name] = n_reviews\n",
    "    elif name not in app_dict:\n",
    "        app_dict[name] = n_reviews\n",
    "        \n",
    "print(len(app_dict))"
   ]
  },
  {
   "cell_type": "markdown",
   "metadata": {},
   "source": [
    "On the cell above, we've made dictionary variable named **app_dict** to store unique apps name and its number of reviews (by keeping the highest number if there's duplicate entries). Then, we check the length of app_dict and we expect it to be same as number of unique apps that we've been queried before, that is **9659** which is correct. So, we can conclude that now we already have the list of unique app names along with its highest number of reviews. Then, we will use this dictionary variable to remove duplicate app data."
   ]
  },
  {
   "cell_type": "code",
   "execution_count": 43,
   "metadata": {},
   "outputs": [
    {
     "name": "stdout",
     "output_type": "stream",
     "text": [
      "['Photo Editor & Candy Camera & Grid & ScrapBook', 'ART_AND_DESIGN', '4.1', '159', '19M', '10,000+', 'Free', '0', 'Everyone', 'Art & Design', 'January 7, 2018', '1.0.0', '4.0.3 and up']\n",
      "\n",
      "\n",
      "['U Launcher Lite – FREE Live Cool Themes, Hide Apps', 'ART_AND_DESIGN', '4.7', '87510', '8.7M', '5,000,000+', 'Free', '0', 'Everyone', 'Art & Design', 'August 1, 2018', '1.2.4', '4.0.3 and up']\n",
      "\n",
      "\n",
      "['Sketch - Draw & Paint', 'ART_AND_DESIGN', '4.5', '215644', '25M', '50,000,000+', 'Free', '0', 'Teen', 'Art & Design', 'June 8, 2018', 'Varies with device', '4.2 and up']\n",
      "\n",
      "\n",
      "Number of rows:  9659\n",
      "Number of columns:  13\n",
      "\n",
      "\n"
     ]
    }
   ],
   "source": [
    "google_clean = []\n",
    "already_added = []\n",
    "\n",
    "for app in google:\n",
    "    name = app[0]\n",
    "    n_reviews = float(app[3])\n",
    "    \n",
    "    if (name not in already_added) and (app_dict[name] == n_reviews):\n",
    "        google_clean.append(app)\n",
    "        already_added.append(name)\n",
    "        \n",
    "explore_dataset(google_clean,0,3,True)"
   ]
  },
  {
   "cell_type": "markdown",
   "metadata": {},
   "source": [
    "In the code above, we make 2 empty list variables named `google_clean` and `already_added`. `google_clean` variable will be used to store the correct app data without duplicate data while `already_added` is used to track for duplicate data. The code in the cell above will iterate through every app data and check if the number of reviews is matched as `app_dict` and hasn't been added before by comparing it to `already_added` variable. As result, we will get `google_clean` variable containing *9659* data without duplicate (by keeping data with highest number of reviews)"
   ]
  },
  {
   "cell_type": "markdown",
   "metadata": {},
   "source": [
    "### Removing Non-English Apps"
   ]
  },
  {
   "cell_type": "markdown",
   "metadata": {},
   "source": [
    "Our team are developing application that use English as its language and we want this application to be used by English-speaker audience. So, in our data analysis, we want to explore apps data on Google Play Store and App Store that's for English audience. We can separate English apps and Non-English apps by looking at its app name.\n",
    "\n",
    "In English, we only use alphabet (A to Z) and we can check if the app name contains alphabet or not by converting it to ASCII. Alphabet (a, b, ..., z, A, ..., Z) has ASCII number below 127. So, we will take each app name in our dataset and then check every character if the ASCII number is below 127 using built-in function in Python called `ord` which return ASCII number of input character. \n",
    "\n",
    "Another problem is some of our app data has English name but also contains several character with ASCII number greateer than 127 (such as : emoji). In order to avoid data loss, we will categorize an apps as English Apps if its app name contain non-alphabet character less than 4.\n",
    "\n",
    "First, we make function `check_alphabet` that return *True* if app is English app based on criteria explained above and vice versa."
   ]
  },
  {
   "cell_type": "code",
   "execution_count": 44,
   "metadata": {},
   "outputs": [],
   "source": [
    "def check_alphabet(text):\n",
    "    non_alphabet = 0\n",
    "    for char in text:\n",
    "        if ord(char) > 127:\n",
    "            non_alphabet += 1\n",
    "    return non_alphabet <= 3"
   ]
  },
  {
   "cell_type": "markdown",
   "metadata": {},
   "source": [
    "Next, we will iterate trough each data set and remove Non-English apps."
   ]
  },
  {
   "cell_type": "code",
   "execution_count": 45,
   "metadata": {},
   "outputs": [],
   "source": [
    "google_final = []\n",
    "apple_final = []\n",
    "\n",
    "for app in google_clean:\n",
    "    if check_alphabet(app[0]):\n",
    "        google_final.append(app)\n",
    "        \n",
    "for app in apple:\n",
    "    if check_alphabet(app[2]):\n",
    "        apple_final.append(app)"
   ]
  },
  {
   "cell_type": "markdown",
   "metadata": {},
   "source": [
    "After getting new data set without Non-English apps, we can explore our data set to check the data sample and number of rows using `explore_dataset` function."
   ]
  },
  {
   "cell_type": "code",
   "execution_count": 46,
   "metadata": {
    "scrolled": true
   },
   "outputs": [
    {
     "name": "stdout",
     "output_type": "stream",
     "text": [
      "['Photo Editor & Candy Camera & Grid & ScrapBook', 'ART_AND_DESIGN', '4.1', '159', '19M', '10,000+', 'Free', '0', 'Everyone', 'Art & Design', 'January 7, 2018', '1.0.0', '4.0.3 and up']\n",
      "\n",
      "\n",
      "['U Launcher Lite – FREE Live Cool Themes, Hide Apps', 'ART_AND_DESIGN', '4.7', '87510', '8.7M', '5,000,000+', 'Free', '0', 'Everyone', 'Art & Design', 'August 1, 2018', '1.2.4', '4.0.3 and up']\n",
      "\n",
      "\n",
      "['Sketch - Draw & Paint', 'ART_AND_DESIGN', '4.5', '215644', '25M', '50,000,000+', 'Free', '0', 'Teen', 'Art & Design', 'June 8, 2018', 'Varies with device', '4.2 and up']\n",
      "\n",
      "\n",
      "Number of rows:  9614\n",
      "Number of columns:  13\n",
      "\n",
      "\n",
      "['1', '281656475', 'PAC-MAN Premium', '100788224', 'USD', '3.99', '21292', '26', '4', '4.5', '6.3.5', '4+', 'Games', '38', '5', '10', '1']\n",
      "\n",
      "\n",
      "['2', '281796108', 'Evernote - stay organized', '158578688', 'USD', '0', '161065', '26', '4', '3.5', '8.2.2', '4+', 'Productivity', '37', '5', '23', '1']\n",
      "\n",
      "\n",
      "['3', '281940292', 'WeatherBug - Local Weather, Radar, Maps, Alerts', '100524032', 'USD', '0', '188583', '2822', '3.5', '4.5', '5.0.0', '4+', 'Weather', '37', '5', '3', '1']\n",
      "\n",
      "\n",
      "Number of rows:  6183\n",
      "Number of columns:  17\n",
      "\n",
      "\n"
     ]
    }
   ],
   "source": [
    "explore_dataset(google_final, 0, 3, True)\n",
    "explore_dataset(apple_final, 0, 3, True)"
   ]
  },
  {
   "cell_type": "markdown",
   "metadata": {},
   "source": [
    "Based on the output of `explore_dataset` function, we have *9614* data of Android Google Play apps and *6183* data of Apple Play Store apps."
   ]
  },
  {
   "cell_type": "markdown",
   "metadata": {},
   "source": [
    "### Removing Non-Free Apps"
   ]
  },
  {
   "cell_type": "markdown",
   "metadata": {},
   "source": [
    "As we stated at the beginning, our teams are developing free app. So, we only interested in free apps data and we need to remove several non-free app data. We can do this by iterating trough data set then check if the price of app is free or not and keep only free app. "
   ]
  },
  {
   "cell_type": "code",
   "execution_count": 47,
   "metadata": {
    "scrolled": true
   },
   "outputs": [],
   "source": [
    "google_dataset = []\n",
    "apple_dataset = []\n",
    "\n",
    "for app in google_final:\n",
    "    price = app[7]\n",
    "    if price == '0':\n",
    "        google_dataset.append(app)\n",
    "        \n",
    "for app in apple_final:\n",
    "    price = float(app[5])\n",
    "    if price == 0:\n",
    "        apple_dataset.append(app)        "
   ]
  },
  {
   "cell_type": "markdown",
   "metadata": {},
   "source": [
    "Then, we can check our data set that has been trough several data cleaning steps. We are left with *8864* data for Android Apps and *3222* data for Apple Apps."
   ]
  },
  {
   "cell_type": "code",
   "execution_count": 48,
   "metadata": {},
   "outputs": [
    {
     "name": "stdout",
     "output_type": "stream",
     "text": [
      "['Photo Editor & Candy Camera & Grid & ScrapBook', 'ART_AND_DESIGN', '4.1', '159', '19M', '10,000+', 'Free', '0', 'Everyone', 'Art & Design', 'January 7, 2018', '1.0.0', '4.0.3 and up']\n",
      "\n",
      "\n",
      "['U Launcher Lite – FREE Live Cool Themes, Hide Apps', 'ART_AND_DESIGN', '4.7', '87510', '8.7M', '5,000,000+', 'Free', '0', 'Everyone', 'Art & Design', 'August 1, 2018', '1.2.4', '4.0.3 and up']\n",
      "\n",
      "\n",
      "['Sketch - Draw & Paint', 'ART_AND_DESIGN', '4.5', '215644', '25M', '50,000,000+', 'Free', '0', 'Teen', 'Art & Design', 'June 8, 2018', 'Varies with device', '4.2 and up']\n",
      "\n",
      "\n",
      "Number of rows:  8864\n",
      "Number of columns:  13\n",
      "\n",
      "\n",
      "['2', '281796108', 'Evernote - stay organized', '158578688', 'USD', '0', '161065', '26', '4', '3.5', '8.2.2', '4+', 'Productivity', '37', '5', '23', '1']\n",
      "\n",
      "\n",
      "['3', '281940292', 'WeatherBug - Local Weather, Radar, Maps, Alerts', '100524032', 'USD', '0', '188583', '2822', '3.5', '4.5', '5.0.0', '4+', 'Weather', '37', '5', '3', '1']\n",
      "\n",
      "\n",
      "['4', '282614216', 'eBay: Best App to Buy, Sell, Save! Online Shopping', '128512000', 'USD', '0', '262241', '649', '4', '4.5', '5.10.0', '12+', 'Shopping', '37', '5', '9', '1']\n",
      "\n",
      "\n",
      "Number of rows:  3222\n",
      "Number of columns:  17\n",
      "\n",
      "\n"
     ]
    }
   ],
   "source": [
    "explore_dataset(google_dataset, 0, 3, True)\n",
    "explore_dataset(apple_dataset, 0, 3, True)"
   ]
  },
  {
   "cell_type": "markdown",
   "metadata": {},
   "source": [
    "## Data Analysis"
   ]
  },
  {
   "cell_type": "markdown",
   "metadata": {},
   "source": [
    "### Most Common Apps by Genre"
   ]
  },
  {
   "cell_type": "markdown",
   "metadata": {},
   "source": [
    "As we mentioned before, our team are developing free apps and need to attract as many users as it can because our revenue is based on user engagement of our application. To minimize risk, we will start first by creating MVP (Minimum Viable Product) of our application for Android since it has bigger user population and add it to Google Play. If it's successful, we can delevop it further and if after several months, we can develop iOS version of our application. First of all, we need to find characteristics of application that are successful on both Google Play and App Store. We can start it by analyzing genre/categoryof application which is favorited by users on Google Play and App Store. "
   ]
  },
  {
   "cell_type": "markdown",
   "metadata": {},
   "source": [
    "Based on our data set, if we want to look at the genre/category column, we can analyze *prime_genre* column on App Store data set while on Google Play data set, we can look at *Genre* and *Category* column. To analyze these columns, we can create function to show the frequency table of each genre/category."
   ]
  },
  {
   "cell_type": "code",
   "execution_count": 49,
   "metadata": {},
   "outputs": [],
   "source": [
    "def freq_table(dataset, index):\n",
    "    dict_freqtable = {}\n",
    "    for app in dataset:\n",
    "        if app[index] not in dict_freqtable:\n",
    "            dict_freqtable[app[index]] = (1 / len(dataset)) * 100\n",
    "        else:\n",
    "            dict_freqtable[app[index]] += (1 / len(dataset)) * 100\n",
    "    return dict_freqtable"
   ]
  },
  {
   "cell_type": "code",
   "execution_count": 50,
   "metadata": {},
   "outputs": [],
   "source": [
    "def display_table(dataset, index):\n",
    "    dict_freqtable = freq_table(dataset, index)\n",
    "    display_table = []\n",
    "    for key in dict_freqtable:\n",
    "        tuple_value = (dict_freqtable[key], key)\n",
    "        display_table.append(tuple_value)\n",
    "    \n",
    "    for data in sorted(display_table, reverse=True):\n",
    "        print(data[1], ' : ', data[0])"
   ]
  },
  {
   "cell_type": "markdown",
   "metadata": {},
   "source": [
    "Let's continue our analysis by exploring `prime_genre` column on App Store data set."
   ]
  },
  {
   "cell_type": "code",
   "execution_count": 51,
   "metadata": {
    "scrolled": false
   },
   "outputs": [
    {
     "name": "stdout",
     "output_type": "stream",
     "text": [
      "Games  :  58.1626319056464\n",
      "Entertainment  :  7.883302296710134\n",
      "Photo & Video  :  4.965859714463075\n",
      "Education  :  3.6623215394165176\n",
      "Social Networking  :  3.2898820608317867\n",
      "Shopping  :  2.6070763500931133\n",
      "Utilities  :  2.5139664804469306\n",
      "Sports  :  2.1415270018621997\n",
      "Music  :  2.048417132216017\n",
      "Health & Fitness  :  2.0173805090006227\n",
      "Productivity  :  1.7380509000620747\n",
      "Lifestyle  :  1.5828677839851035\n",
      "News  :  1.3345747982619496\n",
      "Travel  :  1.2414649286157668\n",
      "Finance  :  1.1173184357541899\n",
      "Weather  :  0.8690254500310364\n",
      "Food & Drink  :  0.8069522036002481\n",
      "Reference  :  0.558659217877095\n",
      "Business  :  0.5276225946617009\n",
      "Book  :  0.4345127250155184\n",
      "Navigation  :  0.186219739292365\n",
      "Medical  :  0.186219739292365\n",
      "Catalogs  :  0.12414649286157665\n"
     ]
    }
   ],
   "source": [
    "display_table(apple_dataset, -5)"
   ]
  },
  {
   "cell_type": "markdown",
   "metadata": {},
   "source": [
    "Based on the data above, for Free English Apps on iOS App Store, mostly is dominated by Games apps (58.16%%), Entertainment apps (7.88%), Photo and Video apps (4.96%), Education apps (3.66%) and etc. From this list, we can conclude that for Free English Apps on iOS App Store mostly is application for entertainment purpose while applications for practical purpose is more rare. However, the fact that entertainment apps is more numerous than other app's genre doesn't mean that the demand also high. We need to explore that notion later.\n",
    "\n",
    "But, first let's take a look at genre's distribution on Google Play dataset by looking at `Genres` and `Category` column. "
   ]
  },
  {
   "cell_type": "code",
   "execution_count": 52,
   "metadata": {
    "scrolled": false
   },
   "outputs": [
    {
     "name": "stdout",
     "output_type": "stream",
     "text": [
      "FAMILY  :  18.907942238266926\n",
      "GAME  :  9.724729241877363\n",
      "TOOLS  :  8.46119133574016\n",
      "BUSINESS  :  4.591606498194979\n",
      "LIFESTYLE  :  3.90342960288811\n",
      "PRODUCTIVITY  :  3.8921480144404565\n",
      "FINANCE  :  3.7003610108303455\n",
      "MEDICAL  :  3.5311371841155417\n",
      "SPORTS  :  3.3957581227436986\n",
      "PERSONALIZATION  :  3.3167870036101235\n",
      "COMMUNICATION  :  3.2378158844765483\n",
      "HEALTH_AND_FITNESS  :  3.079873646209398\n",
      "PHOTOGRAPHY  :  2.944494584837555\n",
      "NEWS_AND_MAGAZINES  :  2.7978339350180583\n",
      "SOCIAL  :  2.6624548736462152\n",
      "TRAVEL_AND_LOCAL  :  2.335288808664261\n",
      "SHOPPING  :  2.2450361010830324\n",
      "BOOKS_AND_REFERENCE  :  2.14350180505415\n",
      "DATING  :  1.861462093862813\n",
      "VIDEO_PLAYERS  :  1.7937725631768928\n",
      "MAPS_AND_NAVIGATION  :  1.398916967509025\n",
      "FOOD_AND_DRINK  :  1.2409747292418778\n",
      "EDUCATION  :  1.1620036101083042\n",
      "ENTERTAINMENT  :  0.9589350180505433\n",
      "LIBRARIES_AND_DEMO  :  0.9363718411552363\n",
      "AUTO_AND_VEHICLES  :  0.9250902527075828\n",
      "HOUSE_AND_HOME  :  0.8235559566787015\n",
      "WEATHER  :  0.8009927797833946\n",
      "EVENTS  :  0.7107400722021667\n",
      "PARENTING  :  0.6543321299638993\n",
      "ART_AND_DESIGN  :  0.6430505415162459\n",
      "COMICS  :  0.6204873646209389\n",
      "BEAUTY  :  0.5979241877256319\n"
     ]
    }
   ],
   "source": [
    "display_table(google_dataset, 1) # Genre Column"
   ]
  },
  {
   "cell_type": "markdown",
   "metadata": {},
   "source": [
    "The genre's distribution is quite different on Google Play dataset (for Free English apps). Mostly is dominated by practical purpose apps (Family : 18.91%, Tools : 8.46%, Business : 4.59%, etc). But, if we explore the data further, we'll see that Family category is dominated by applications for kids. This kind of distribution is also confirmed in `Category` column."
   ]
  },
  {
   "cell_type": "code",
   "execution_count": 53,
   "metadata": {
    "scrolled": false
   },
   "outputs": [
    {
     "name": "stdout",
     "output_type": "stream",
     "text": [
      "Tools  :  8.449909747292507\n",
      "Entertainment  :  6.069494584837599\n",
      "Education  :  5.34747292418777\n",
      "Business  :  4.591606498194979\n",
      "Productivity  :  3.8921480144404565\n",
      "Lifestyle  :  3.8921480144404565\n",
      "Finance  :  3.7003610108303455\n",
      "Medical  :  3.5311371841155417\n",
      "Sports  :  3.46344765342962\n",
      "Personalization  :  3.3167870036101235\n",
      "Communication  :  3.2378158844765483\n",
      "Action  :  3.1024368231047053\n",
      "Health & Fitness  :  3.079873646209398\n",
      "Photography  :  2.944494584837555\n",
      "News & Magazines  :  2.7978339350180583\n",
      "Social  :  2.6624548736462152\n",
      "Travel & Local  :  2.3240072202166075\n",
      "Shopping  :  2.2450361010830324\n",
      "Books & Reference  :  2.14350180505415\n",
      "Simulation  :  2.041967509025268\n",
      "Dating  :  1.861462093862813\n",
      "Arcade  :  1.8501805054151597\n",
      "Video Players & Editors  :  1.771209386281586\n",
      "Casual  :  1.7599277978339327\n",
      "Maps & Navigation  :  1.398916967509025\n",
      "Food & Drink  :  1.2409747292418778\n",
      "Puzzle  :  1.1281588447653441\n",
      "Racing  :  0.9927797833935037\n",
      "Role Playing  :  0.9363718411552363\n",
      "Libraries & Demo  :  0.9363718411552363\n",
      "Auto & Vehicles  :  0.9250902527075828\n",
      "Strategy  :  0.9138086642599293\n",
      "House & Home  :  0.8235559566787015\n",
      "Weather  :  0.8009927797833946\n",
      "Events  :  0.7107400722021667\n",
      "Adventure  :  0.6768953068592063\n",
      "Comics  :  0.6092057761732854\n",
      "Beauty  :  0.5979241877256319\n",
      "Art & Design  :  0.5979241877256319\n",
      "Parenting  :  0.4963898916967507\n",
      "Card  :  0.451263537906137\n",
      "Casino  :  0.42870036101083014\n",
      "Trivia  :  0.4174187725631767\n",
      "Educational;Education  :  0.3948555956678699\n",
      "Board  :  0.38357400722021645\n",
      "Educational  :  0.372292418772563\n",
      "Education;Education  :  0.33844765342960276\n",
      "Word  :  0.2594765342960288\n",
      "Casual;Pretend Play  :  0.23691335740072195\n",
      "Music  :  0.20306859205776168\n",
      "Racing;Action & Adventure  :  0.1692238267148014\n",
      "Puzzle;Brain Games  :  0.1692238267148014\n",
      "Entertainment;Music & Video  :  0.1692238267148014\n",
      "Casual;Brain Games  :  0.13537906137184114\n",
      "Casual;Action & Adventure  :  0.13537906137184114\n",
      "Arcade;Action & Adventure  :  0.12409747292418771\n",
      "Action;Action & Adventure  :  0.10153429602888087\n",
      "Educational;Pretend Play  :  0.09025270758122744\n",
      "Simulation;Action & Adventure  :  0.07897111913357402\n",
      "Parenting;Education  :  0.07897111913357402\n",
      "Entertainment;Brain Games  :  0.07897111913357402\n",
      "Board;Brain Games  :  0.07897111913357402\n",
      "Parenting;Music & Video  :  0.06768953068592058\n",
      "Educational;Brain Games  :  0.06768953068592058\n",
      "Casual;Creativity  :  0.06768953068592058\n",
      "Art & Design;Creativity  :  0.06768953068592058\n",
      "Education;Pretend Play  :  0.05640794223826715\n",
      "Role Playing;Pretend Play  :  0.04512635379061372\n",
      "Education;Creativity  :  0.04512635379061372\n",
      "Role Playing;Action & Adventure  :  0.03384476534296029\n",
      "Puzzle;Action & Adventure  :  0.03384476534296029\n",
      "Entertainment;Creativity  :  0.03384476534296029\n",
      "Entertainment;Action & Adventure  :  0.03384476534296029\n",
      "Educational;Creativity  :  0.03384476534296029\n",
      "Educational;Action & Adventure  :  0.03384476534296029\n",
      "Education;Music & Video  :  0.03384476534296029\n",
      "Education;Brain Games  :  0.03384476534296029\n",
      "Education;Action & Adventure  :  0.03384476534296029\n",
      "Adventure;Action & Adventure  :  0.03384476534296029\n",
      "Video Players & Editors;Music & Video  :  0.02256317689530686\n",
      "Sports;Action & Adventure  :  0.02256317689530686\n",
      "Simulation;Pretend Play  :  0.02256317689530686\n",
      "Puzzle;Creativity  :  0.02256317689530686\n",
      "Music;Music & Video  :  0.02256317689530686\n",
      "Entertainment;Pretend Play  :  0.02256317689530686\n",
      "Casual;Education  :  0.02256317689530686\n",
      "Board;Action & Adventure  :  0.02256317689530686\n",
      "Video Players & Editors;Creativity  :  0.01128158844765343\n",
      "Trivia;Education  :  0.01128158844765343\n",
      "Travel & Local;Action & Adventure  :  0.01128158844765343\n",
      "Tools;Education  :  0.01128158844765343\n",
      "Strategy;Education  :  0.01128158844765343\n",
      "Strategy;Creativity  :  0.01128158844765343\n",
      "Strategy;Action & Adventure  :  0.01128158844765343\n",
      "Simulation;Education  :  0.01128158844765343\n",
      "Role Playing;Brain Games  :  0.01128158844765343\n",
      "Racing;Pretend Play  :  0.01128158844765343\n",
      "Puzzle;Education  :  0.01128158844765343\n",
      "Parenting;Brain Games  :  0.01128158844765343\n",
      "Music & Audio;Music & Video  :  0.01128158844765343\n",
      "Lifestyle;Pretend Play  :  0.01128158844765343\n",
      "Lifestyle;Education  :  0.01128158844765343\n",
      "Health & Fitness;Education  :  0.01128158844765343\n",
      "Health & Fitness;Action & Adventure  :  0.01128158844765343\n",
      "Entertainment;Education  :  0.01128158844765343\n",
      "Communication;Creativity  :  0.01128158844765343\n",
      "Comics;Creativity  :  0.01128158844765343\n",
      "Casual;Music & Video  :  0.01128158844765343\n",
      "Card;Action & Adventure  :  0.01128158844765343\n",
      "Books & Reference;Education  :  0.01128158844765343\n",
      "Art & Design;Pretend Play  :  0.01128158844765343\n",
      "Art & Design;Action & Adventure  :  0.01128158844765343\n",
      "Arcade;Pretend Play  :  0.01128158844765343\n",
      "Adventure;Education  :  0.01128158844765343\n"
     ]
    }
   ],
   "source": [
    "display_table(google_dataset, -4) #Category Column"
   ]
  },
  {
   "cell_type": "markdown",
   "metadata": {},
   "source": [
    "Based on the frequency table for `Category` column, we can see that free English apps on Google Play is mostly dominated by practical purpose apps rather than entertainment apps. While the difference between `Genre` and  `Category` column on Google Play dataset is not clear, we can assume that `Category` column has more granular categorization of apps. Since, we want to look at bigger picture for most common genre on Google Play Store and since both columns have similar landscapes, we'll stick to `Category` column."
   ]
  },
  {
   "cell_type": "markdown",
   "metadata": {},
   "source": [
    "Until now, we can conclude that for free English apps, on iOS App Store mostly is dominated by entertainment purpose apps, while on Google Play, mostly is dominated by practical purpose apps. Next, we want to explore kind of apps that has more users to see what kind of app has high demand as mentioned before."
   ]
  },
  {
   "cell_type": "markdown",
   "metadata": {},
   "source": [
    "### Most Popular Apps by Genre"
   ]
  },
  {
   "cell_type": "markdown",
   "metadata": {},
   "source": [
    "One way to find out apps that have more users is by checking the average number of installation for each genre of apps. For Google Play dataset, we can look for that data in `Installs` column, while for App Store dataset, we can look at `rating_count_tot` that shows total number of ratings given by users for all versions since App Store dataset doesn't have data for total number installation. "
   ]
  },
  {
   "cell_type": "markdown",
   "metadata": {},
   "source": [
    "Below, we create function `display_common_genre` to display list of most popular genre based on total ratings given by users (for App Store) and total user's download (for Google Play). This function takes 4 inputs : dataset, column index of genre (for Google Play, we'll use `Category` column as stated above), total user's download and rating column index and boolean parameter if it's Google Play data because in Google Play data for `Installs` column the data record is not really precise. Instead, it's divided into several threshold category, such as : '5,000+', '10,000+', etc. Then, we need to replace the ',' and '+' character and change it into float datatype for Google Play dataset before we can analyze it. "
   ]
  },
  {
   "cell_type": "code",
   "execution_count": 54,
   "metadata": {},
   "outputs": [],
   "source": [
    "def display_common_genre(dataset, genre_idx, cont_user_idx, google_dataset=False):\n",
    "    genres = freq_table(dataset, genre_idx)\n",
    "    common_genre_list = []\n",
    "    for app_genre in genres:\n",
    "        total = 0\n",
    "        count = 0\n",
    "\n",
    "        for app in dataset:        \n",
    "            if app[genre_idx] == app_genre:\n",
    "                count += 1\n",
    "                if not google_dataset:\n",
    "                    total += float(app[cont_user_idx])\n",
    "                else:\n",
    "                    app[cont_user_idx] = app[cont_user_idx].replace(',','')\n",
    "                    app[cont_user_idx] = app[cont_user_idx].replace('+','')\n",
    "                    total += float(app[cont_user_idx])\n",
    "\n",
    "        common_genre_list.append((total/count, app_genre))\n",
    "    \n",
    "    for app_genre in sorted(common_genre_list, reverse=True):\n",
    "        print(app_genre[1], \":\", app_genre[0])"
   ]
  },
  {
   "cell_type": "markdown",
   "metadata": {},
   "source": [
    "First, we'll analyze iOS App Store dataset. The sorted result with highest user rating given is displayed below :"
   ]
  },
  {
   "cell_type": "code",
   "execution_count": 55,
   "metadata": {},
   "outputs": [
    {
     "name": "stdout",
     "output_type": "stream",
     "text": [
      "Navigation : 86090.33333333333\n",
      "Reference : 74942.11111111111\n",
      "Social Networking : 71548.34905660378\n",
      "Music : 57326.530303030304\n",
      "Weather : 52279.892857142855\n",
      "Book : 39758.5\n",
      "Food & Drink : 33333.92307692308\n",
      "Finance : 31467.944444444445\n",
      "Photo & Video : 28441.54375\n",
      "Travel : 28243.8\n",
      "Shopping : 26919.690476190477\n",
      "Health & Fitness : 23298.015384615384\n",
      "Sports : 23008.898550724636\n",
      "Games : 22788.6696905016\n",
      "News : 21248.023255813954\n",
      "Productivity : 21028.410714285714\n",
      "Utilities : 18684.456790123455\n",
      "Lifestyle : 16485.764705882353\n",
      "Entertainment : 14029.830708661417\n",
      "Business : 7491.117647058823\n",
      "Education : 7003.983050847458\n",
      "Catalogs : 4004.0\n",
      "Medical : 612.0\n"
     ]
    }
   ],
   "source": [
    "display_common_genre(apple_dataset, -5, 6)"
   ]
  },
  {
   "cell_type": "markdown",
   "metadata": {},
   "source": [
    "As we can see from the result above, the most popular free English apps on App Store (based on number of user's rating given) is dominated by Navigation apps, followed by Reference, Social Networking, Music and Weather apps. These top 5 genres seem potential as our genre choice for our application. Now, let's take a deeper look to get decision of which genre should we take for our application. To make it easier, we will create function to display sorted list of app name and number of user rating given (Apple App Store dataset) or number of installation (Google Play Store dataset). The function is named `display_app_usrcount` and implemented below :"
   ]
  },
  {
   "cell_type": "code",
   "execution_count": 56,
   "metadata": {},
   "outputs": [],
   "source": [
    "def display_app_usrcount(dataset, genre, genre_idx, app_name_idx, user_count_idx, googledataset=False):\n",
    "    app_list = []\n",
    "    for app in dataset:\n",
    "        if app[genre_idx] == genre:\n",
    "            if not googledataset:\n",
    "                app_list.append((int(app[user_count_idx]), app[app_name_idx]))\n",
    "            else:\n",
    "                app[user_count_idx] = app[user_count_idx].replace(',','')\n",
    "                app[user_count_idx] = app[user_count_idx].replace('+','')\n",
    "                app_list.append((int(app[user_count_idx]), app[app_name_idx]))\n",
    "\n",
    "    for app in sorted(app_list, reverse=True):\n",
    "        print(app[1], ':', app[0])"
   ]
  },
  {
   "cell_type": "markdown",
   "metadata": {},
   "source": [
    "First, we'll try to explore Navigation category on Apple Store since it has the biggest user rating given for free English apps on Apple Store."
   ]
  },
  {
   "cell_type": "code",
   "execution_count": 57,
   "metadata": {
    "scrolled": true
   },
   "outputs": [
    {
     "name": "stdout",
     "output_type": "stream",
     "text": [
      "Waze - GPS Navigation, Maps & Real-time Traffic : 345046\n",
      "Google Maps - Navigation & Transit : 154911\n",
      "Geocaching® : 12811\n",
      "CoPilot GPS – Car Navigation & Offline Maps : 3582\n",
      "ImmobilienScout24: Real Estate Search in Germany : 187\n",
      "Railway Route Search : 5\n"
     ]
    }
   ],
   "source": [
    "display_app_usrcount(apple_dataset, 'Navigation', -5, 2, 6)"
   ]
  },
  {
   "cell_type": "markdown",
   "metadata": {},
   "source": [
    "From this data, we can see that for Navigation category, the number is heavily influenced by Waze and Google Maps which makes up 96.79% users rating given (close to half million) for this category. We also can found this same patter for Social Networking and Music category."
   ]
  },
  {
   "cell_type": "code",
   "execution_count": 58,
   "metadata": {},
   "outputs": [
    {
     "name": "stdout",
     "output_type": "stream",
     "text": [
      "Facebook : 2974676\n",
      "Pinterest : 1061624\n",
      "Skype for iPhone : 373519\n",
      "Messenger : 351466\n",
      "Tumblr : 334293\n",
      "WhatsApp Messenger : 287589\n",
      "Kik : 260965\n",
      "ooVoo – Free Video Call, Text and Voice : 177501\n",
      "TextNow - Unlimited Text + Calls : 164963\n",
      "Viber Messenger – Text & Call : 164249\n",
      "Followers - Social Analytics For Instagram : 112778\n",
      "MeetMe - Chat and Meet New People : 97072\n",
      "We Heart It - Fashion, wallpapers, quotes, tattoos : 90414\n",
      "InsTrack for Instagram - Analytics Plus More : 85535\n",
      "Tango - Free Video Call, Voice and Chat : 75412\n",
      "LinkedIn : 71856\n",
      "Match™ - #1 Dating App. : 60659\n",
      "Skype for iPad : 60163\n",
      "POF - Best Dating App for Conversations : 52642\n",
      "Timehop : 49510\n",
      "Find My Family, Friends & iPhone - Life360 Locator : 43877\n",
      "Whisper - Share, Express, Meet : 39819\n",
      "Hangouts : 36404\n",
      "LINE PLAY - Your Avatar World : 34677\n",
      "WeChat : 34584\n",
      "Badoo - Meet New People, Chat, Socialize. : 34428\n",
      "Followers + for Instagram - Follower Analytics : 28633\n",
      "GroupMe : 28260\n",
      "Marco Polo Video Walkie Talkie : 27662\n",
      "Miitomo : 23965\n",
      "SimSimi : 23530\n",
      "Grindr - Gay and same sex guys chat, meet and date : 23201\n",
      "Wishbone - Compare Anything : 20649\n",
      "imo video calls and chat : 18841\n",
      "After School - Funny Anonymous School News : 18482\n",
      "Quick Reposter - Repost, Regram and Reshare Photos : 17694\n",
      "Weibo HD : 16772\n",
      "Repost for Instagram : 15185\n",
      "Live.me – Live Video Chat & Make Friends Nearby : 14724\n",
      "Nextdoor : 14402\n",
      "Followers Analytics for Instagram - InstaReport : 13914\n",
      "YouNow: Live Stream Video Chat : 12079\n",
      "FollowMeter for Instagram - Followers Tracking : 11976\n",
      "LINE : 11437\n",
      "eHarmony™ Dating App - Meet Singles : 11124\n",
      "Discord - Chat for Gamers : 9152\n",
      "QQ : 9109\n",
      "Telegram Messenger : 7573\n",
      "Weibo : 7265\n",
      "Periscope - Live Video Streaming Around the World : 6062\n",
      "Chat for Whatsapp - iPad Version : 5060\n",
      "QQ HD : 5058\n",
      "Followers Analysis Tool For Instagram App Free : 4253\n",
      "live.ly - live video streaming : 4145\n",
      "Houseparty - Group Video Chat : 3991\n",
      "SOMA Messenger : 3232\n",
      "Monkey : 3060\n",
      "Down To Lunch : 2535\n",
      "Flinch - Video Chat Staring Contest : 2134\n",
      "Highrise - Your Avatar Community : 2011\n",
      "LOVOO - Dating Chat : 1985\n",
      "PlayStation®Messages : 1918\n",
      "BOO! - Video chat camera with filters & stickers : 1805\n",
      "Qzone : 1649\n",
      "Chatous - Chat with new people : 1609\n",
      "Kiwi - Q&A : 1538\n",
      "GhostCodes - a discovery app for Snapchat : 1313\n",
      "Jodel : 1193\n",
      "FireChat : 1037\n",
      "Google Duo - simple video calling : 1033\n",
      "Fiesta by Tango - Chat & Meet New People : 885\n",
      "Google Allo — smart messaging : 862\n",
      "Peach — share vividly : 727\n",
      "Hey! VINA - Where Women Meet New Friends : 719\n",
      "Battlefield™ Companion : 689\n",
      "All Devices for WhatsApp - Messenger for iPad : 682\n",
      "Chat for Pokemon Go - GoChat : 500\n",
      "IAmNaughty – Dating App to Meet New People Online : 463\n",
      "Qzone HD : 458\n",
      "Zenly - Locate your friends in realtime : 427\n",
      "League of Legends Friends : 420\n",
      "豆瓣 : 407\n",
      "Candid - Speak Your Mind Freely : 398\n",
      "知乎 : 397\n",
      "Selfeo : 366\n",
      "Fake-A-Location Free ™ : 354\n",
      "Popcorn Buzz - Free Group Calls : 281\n",
      "Fam — Group video calling for iMessage : 279\n",
      "QQ International : 274\n",
      "Ameba : 269\n",
      "SoundCloud Pulse: for creators : 240\n",
      "Tantan : 235\n",
      "Cougar Dating & Life Style App for Mature Women : 213\n",
      "Rawr Messenger - Dab your chat : 180\n",
      "WhenToPost: Best Time to Post Photos for Instagram : 158\n",
      "Inke—Broadcast an amazing life : 147\n",
      "Mustknow - anonymous video Q&A : 53\n",
      "CTFxCmoji : 39\n",
      "Lobi : 36\n",
      "Chain: Collaborate On MyVideo Story/Group Video : 35\n",
      "botman - Real time video chat : 7\n",
      "niconico ch : 0\n",
      "bit-tube - Live Stream Video Chat : 0\n",
      "MATCH ON LINE chat : 0\n",
      "LINE BLOG : 0\n",
      "BestieBox : 0\n"
     ]
    }
   ],
   "source": [
    "display_app_usrcount(apple_dataset, 'Social Networking', -5, 2, 6)"
   ]
  },
  {
   "cell_type": "code",
   "execution_count": 59,
   "metadata": {},
   "outputs": [
    {
     "name": "stdout",
     "output_type": "stream",
     "text": [
      "Pandora - Music & Radio : 1126879\n",
      "Spotify Music : 878563\n",
      "Shazam - Discover music, artists, videos & lyrics : 402925\n",
      "iHeartRadio – Free Music & Radio Stations : 293228\n",
      "SoundCloud - Music & Audio : 135744\n",
      "Magic Piano by Smule : 131695\n",
      "Smule Sing! : 119316\n",
      "TuneIn Radio - MLB NBA Audiobooks Podcasts Music : 110420\n",
      "Amazon Music : 106235\n",
      "SoundHound Song Search & Music Player : 82602\n",
      "Sonos Controller : 48905\n",
      "Bandsintown Concerts : 30845\n",
      "Karaoke - Sing Karaoke, Unlimited Songs! : 28606\n",
      "My Mixtapez Music : 26286\n",
      "Sing Karaoke Songs Unlimited with StarMaker : 26227\n",
      "Ringtones for iPhone & Ringtone Maker : 25403\n",
      "Musi - Unlimited Music For YouTube : 25193\n",
      "AutoRap by Smule : 18202\n",
      "Spinrilla - Mixtapes For Free : 15053\n",
      "Napster - Top Music & Radio : 14268\n",
      "edjing Mix:DJ turntable to remix and scratch music : 13580\n",
      "Free Music - MP3 Streamer & Playlist Manager Pro : 13443\n",
      "Free Piano app by Yokee : 13016\n",
      "Google Play Music : 10118\n",
      "Certified Mixtapes - Hip Hop Albums & Mixtapes : 9975\n",
      "TIDAL : 7398\n",
      "YouTube Music : 7109\n",
      "Nicki Minaj: The Empire : 5196\n",
      "Sounds app - Music And Friends : 5126\n",
      "SongFlip - Free Music Streamer : 5004\n",
      "Simple Radio - Live AM & FM Radio Stations : 4787\n",
      "Deezer - Listen to your Favorite Music & Playlists : 4677\n",
      "Ringtones for iPhone with Ringtone Maker : 4013\n",
      "Bose SoundTouch : 3687\n",
      "Amazon Alexa : 3018\n",
      "DatPiff : 2815\n",
      "Trebel Music - Unlimited Music Downloader : 2570\n",
      "Free Music Play - Mp3 Streamer & Player : 2496\n",
      "Acapella from PicPlayPost : 2487\n",
      "Coach Guitar - Lessons & Easy Tabs For Beginners : 2416\n",
      "Musicloud - MP3 and FLAC Music Player for Cloud Platforms. : 2211\n",
      "Piano - Play Keyboard Music Games with Magic Tiles : 1636\n",
      "Boom: Best Equalizer & Magical Surround Sound : 1375\n",
      "Music Freedom - Unlimited Free MP3 Music Streaming : 1246\n",
      "AmpMe - A Portable Social Party Music Speaker : 1047\n",
      "Medly - Music Maker : 933\n",
      "Bose Connect : 915\n",
      "Music Memos : 909\n",
      "UE BOOM : 612\n",
      "LiveMixtapes : 555\n",
      "NOISE : 355\n",
      "MP3 Music Player & Streamer for Clouds : 329\n",
      "Musical Video Maker - Create Music clips lip sync : 320\n",
      "Cloud Music Player - Downloader & Playlist Manager : 319\n",
      "Remixlive - Remix loops with pads : 288\n",
      "QQ音乐HD : 224\n",
      "Blocs Wave - Make & Record Music : 158\n",
      "PlayGround • Music At Your Fingertips : 150\n",
      "Music and Chill : 135\n",
      "The Singing Machine Mobile Karaoke App : 130\n",
      "radio.de - Der Radioplayer : 64\n",
      "Free Music -  Player & Streamer  for Dropbox, OneDrive & Google Drive : 46\n",
      "NRJ Radio : 38\n",
      "Smart Music: Streaming Videos and Radio : 17\n",
      "BOSS Tuner : 13\n",
      "PetitLyrics : 0\n"
     ]
    }
   ],
   "source": [
    "display_app_usrcount(apple_dataset, 'Music', -5, 2, 6)"
   ]
  },
  {
   "cell_type": "markdown",
   "metadata": {},
   "source": [
    "From these lists, we can assume that for these 3 application genres on App Store is highly influenced by big player, such as :  Waze, Google Maps, Facebook, Pinterest, Skype, Pandora, Spotify, Shazam, etc. This probably makes number of ratings given for these categories is skewed mostly by these well-known and wide-used apps. This pattern also can give us some hints that these three categories may not really popular than they are because the number of user's rating is mostly from those big player apps. Therefore, we can remove these three categories from our assumption for most common apps. Besides, if we create app in one of those three categories, we may have struggle to conquer those well-known apps."
   ]
  },
  {
   "cell_type": "markdown",
   "metadata": {},
   "source": [
    "Now, let's take a look at other categories, that is : Reference and Weather."
   ]
  },
  {
   "cell_type": "code",
   "execution_count": 60,
   "metadata": {},
   "outputs": [
    {
     "name": "stdout",
     "output_type": "stream",
     "text": [
      "Bible : 985920\n",
      "Dictionary.com Dictionary & Thesaurus : 200047\n",
      "Dictionary.com Dictionary & Thesaurus for iPad : 54175\n",
      "Google Translate : 26786\n",
      "Muslim Pro: Ramadan 2017 Prayer Times, Azan, Quran : 18418\n",
      "New Furniture Mods - Pocket Wiki & Game Tools for Minecraft PC Edition : 17588\n",
      "Merriam-Webster Dictionary : 16849\n",
      "Night Sky : 12122\n",
      "City Maps for Minecraft PE - The Best Maps for Minecraft Pocket Edition (MCPE) : 8535\n",
      "LUCKY BLOCK MOD ™ for Minecraft PC Edition - The Best Pocket Wiki & Mods Installer Tools : 4693\n",
      "GUNS MODS for Minecraft PC Edition - Mods Tools : 1497\n",
      "Guides for Pokémon GO - Pokemon GO News and Cheats : 826\n",
      "WWDC : 762\n",
      "Horror Maps for Minecraft PE - Download The Scariest Maps for Minecraft Pocket Edition (MCPE) Free : 718\n",
      "VPN Express : 14\n",
      "Real Bike Traffic Rider Virtual Reality Glasses : 8\n",
      "教えて!goo : 0\n",
      "Jishokun-Japanese English Dictionary & Translator : 0\n"
     ]
    }
   ],
   "source": [
    "display_app_usrcount(apple_dataset, 'Reference', -5, 2, 6)"
   ]
  },
  {
   "cell_type": "code",
   "execution_count": 61,
   "metadata": {},
   "outputs": [
    {
     "name": "stdout",
     "output_type": "stream",
     "text": [
      "The Weather Channel: Forecast, Radar & Alerts : 495626\n",
      "The Weather Channel App for iPad – best local forecast, radar map, and storm tracking : 208648\n",
      "WeatherBug - Local Weather, Radar, Maps, Alerts : 188583\n",
      "MyRadar NOAA Weather Radar Forecast : 150158\n",
      "AccuWeather - Weather for Life : 144214\n",
      "Yahoo Weather : 112603\n",
      "Weather Underground: Custom Forecast & Local Radar : 49192\n",
      "NOAA Weather Radar - Weather Forecast & HD Radar : 45696\n",
      "Weather Live Free - Weather Forecast & Alerts : 35702\n",
      "Storm Radar : 22792\n",
      "QuakeFeed Earthquake Map, Alerts, and News : 6081\n",
      "Moji Weather - Free Weather Forecast : 2333\n",
      "Hurricane by American Red Cross : 1158\n",
      "Forecast Bar : 375\n",
      "Hurricane Tracker WESH 2 Orlando, Central Florida : 203\n",
      "FEMA : 128\n",
      "iWeather - World weather forecast : 80\n",
      "Weather - Radar - Storm with Morecast App : 78\n",
      "Yurekuru Call : 53\n",
      "Weather & Radar : 37\n",
      "WRAL Weather Alert : 25\n",
      "Météo-France : 24\n",
      "JaxReady : 22\n",
      "Freddy the Frogcaster's Weather Station : 14\n",
      "Almanac Long-Range Weather Forecast : 12\n",
      "wetter.com : 0\n",
      "WarnWetter : 0\n",
      "TodayAir : 0\n"
     ]
    }
   ],
   "source": [
    "display_app_usrcount(apple_dataset, 'Weather', -5, 2, 6)"
   ]
  },
  {
   "cell_type": "markdown",
   "metadata": {},
   "source": [
    "For Reference category, we can see that application Bible and Dictionary.com get many user ratings and it seems that these two applications highly influencing this category. But, aside from that fact, this category looks like have potential since those two application would act as must-have application for users. We can make application that store several books and give several other features, such as : quoting feature, dictionary, quizzes, etc. These feature will make our application more interesting and will engage more users and more time to spend more time using our application because our revenue is based on user's engagement. This idea also matches the fact that free English apps on App Store is populated with for fun apps (may indicating high demand for fun apps). "
   ]
  },
  {
   "cell_type": "markdown",
   "metadata": {},
   "source": [
    "For Weather, this category also seems promising. But, mostly users will only spend little times for this kind of apps which makes time spent on our apps very little. Thus, also affecting our revenue. Up until now, based on free English apps on App Store, we decide that Reference category will be promising and we can create e-book reader application with several other features, such as : dictionary, quizzes, quotation, and etc.  "
   ]
  },
  {
   "cell_type": "markdown",
   "metadata": {},
   "source": [
    "Now, let's take a look at Google Play Store dataset."
   ]
  },
  {
   "cell_type": "markdown",
   "metadata": {},
   "source": [
    "## Most Popular Apps by Genre on Google Play"
   ]
  },
  {
   "cell_type": "code",
   "execution_count": 62,
   "metadata": {
    "scrolled": true
   },
   "outputs": [
    {
     "name": "stdout",
     "output_type": "stream",
     "text": [
      "COMMUNICATION : 38456119.167247385\n",
      "VIDEO_PLAYERS : 24727872.452830188\n",
      "SOCIAL : 23253652.127118643\n",
      "PHOTOGRAPHY : 17840110.40229885\n",
      "PRODUCTIVITY : 16787331.344927534\n",
      "GAME : 15588015.603248259\n",
      "TRAVEL_AND_LOCAL : 13984077.710144928\n",
      "ENTERTAINMENT : 11640705.88235294\n",
      "TOOLS : 10801391.298666667\n",
      "NEWS_AND_MAGAZINES : 9549178.467741935\n",
      "BOOKS_AND_REFERENCE : 8767811.894736841\n",
      "SHOPPING : 7036877.311557789\n",
      "PERSONALIZATION : 5201482.6122448975\n",
      "WEATHER : 5074486.197183099\n",
      "HEALTH_AND_FITNESS : 4188821.9853479853\n",
      "MAPS_AND_NAVIGATION : 4056941.7741935486\n",
      "FAMILY : 3695641.8198090694\n",
      "SPORTS : 3638640.1428571427\n",
      "ART_AND_DESIGN : 1986335.0877192982\n",
      "FOOD_AND_DRINK : 1924897.7363636363\n",
      "EDUCATION : 1833495.145631068\n",
      "BUSINESS : 1712290.1474201474\n",
      "LIFESTYLE : 1437816.2687861272\n",
      "FINANCE : 1387692.475609756\n",
      "HOUSE_AND_HOME : 1331540.5616438356\n",
      "DATING : 854028.8303030303\n",
      "COMICS : 817657.2727272727\n",
      "AUTO_AND_VEHICLES : 647317.8170731707\n",
      "LIBRARIES_AND_DEMO : 638503.734939759\n",
      "PARENTING : 542603.6206896552\n",
      "BEAUTY : 513151.88679245283\n",
      "EVENTS : 253542.22222222222\n",
      "MEDICAL : 120550.61980830671\n"
     ]
    }
   ],
   "source": [
    "display_common_genre(google_dataset, 1, 5, True)"
   ]
  },
  {
   "cell_type": "markdown",
   "metadata": {},
   "source": [
    "For Play Store dataset, we can see that Communication has the highest number of downloads with Video Players category in the second, Social in the third and so on. While, for Books and Reference category, is also fairly popular and on 11th place. Now, let's take a deeper look on several categories."
   ]
  },
  {
   "cell_type": "code",
   "execution_count": 63,
   "metadata": {},
   "outputs": [
    {
     "name": "stdout",
     "output_type": "stream",
     "text": [
      "WhatsApp Messenger : 1000000000\n",
      "Skype - free IM & video calls : 1000000000\n",
      "Messenger – Text and Video Chat for Free : 1000000000\n",
      "Hangouts : 1000000000\n",
      "Google Chrome: Fast & Secure : 1000000000\n",
      "Gmail : 1000000000\n",
      "imo free video calls and chat : 500000000\n",
      "Viber Messenger : 500000000\n",
      "UC Browser - Fast Download Private & Secure : 500000000\n",
      "LINE: Free Calls & Messages : 500000000\n",
      "Google Duo - High Quality Video Calls : 500000000\n",
      "imo beta free calls and text : 100000000\n",
      "Yahoo Mail – Stay Organized : 100000000\n",
      "Who : 100000000\n",
      "WeChat : 100000000\n",
      "UC Browser Mini -Tiny Fast Private & Secure : 100000000\n",
      "Truecaller: Caller ID, SMS spam blocking & Dialer : 100000000\n",
      "Telegram : 100000000\n",
      "Opera Mini - fast web browser : 100000000\n",
      "Opera Browser: Fast and Secure : 100000000\n",
      "Messenger Lite: Free Calls & Messages : 100000000\n",
      "Kik : 100000000\n",
      "KakaoTalk: Free Calls & Text : 100000000\n",
      "GO SMS Pro - Messenger, Free Themes, Emoji : 100000000\n",
      "Firefox Browser fast & private : 100000000\n",
      "BBM - Free Calls & Messages : 100000000\n",
      "Android Messages : 100000000\n",
      "free video calls and chat : 50000000\n",
      "Zalo – Video Call : 50000000\n",
      "Mail.Ru - Email App : 50000000\n",
      "Dolphin Browser - Fast, Private & Adblock🐬 : 50000000\n",
      "Contacts : 50000000\n",
      "CM Browser - Ad Blocker , Fast Download , Privacy : 50000000\n",
      "Azar : 50000000\n",
      "myMail – Email for Hotmail, Gmail and Outlook Mail : 10000000\n",
      "chomp SMS : 10000000\n",
      "ZenUI Dialer & Contacts : 10000000\n",
      "Xperia Link™ : 10000000\n",
      "Whoscall - Caller ID & Block : 10000000\n",
      "WhatsCall Free Global Phone Call App & Cheap Calls : 10000000\n",
      "WhatsApp Business : 10000000\n",
      "WEB.DE Mail : 10000000\n",
      "Voxer Walkie Talkie Messenger : 10000000\n",
      "TouchPal Keyboard - Fun Emoji & Android Keyboard : 10000000\n",
      "Text SMS : 10000000\n",
      "Talkray - Free Calls & Texts : 10000000\n",
      "Talkatone: Free Texts, Calls & Phone Number : 10000000\n",
      "Puffin Web Browser : 10000000\n",
      "Psiphon Pro - The Internet Freedom VPN : 10000000\n",
      "Portable Wi-Fi hotspot : 10000000\n",
      "Orfox: Tor Browser for Android : 10000000\n",
      "Opera Mini browser beta : 10000000\n",
      "Omlet Chat : 10000000\n",
      "Mr. Number-Block calls & spam : 10000000\n",
      "Messenger for SMS : 10000000\n",
      "MegaFon Dashboard : 10000000\n",
      "ICQ — Video Calls & Chat Messenger : 10000000\n",
      "Hiya - Caller ID & Block : 10000000\n",
      "Hangouts Dialer - Call Phones : 10000000\n",
      "GroupMe : 10000000\n",
      "Google Voice : 10000000\n",
      "Google Allo : 10000000\n",
      "Glide - Video Chat Messenger : 10000000\n",
      "GO Notifier : 10000000\n",
      "GMX Mail : 10000000\n",
      "Free WiFi Connect : 10000000\n",
      "Free Adblocker Browser - Adblock & Popup Blocker : 10000000\n",
      "ExDialer - Dialer & Contacts : 10000000\n",
      "Discord - Chat for Gamers : 10000000\n",
      "DU Browser—Browse fast & fun : 10000000\n",
      "Cricket Visual Voicemail : 10000000\n",
      "Contacts+ : 10000000\n",
      "Calls Blacklist - Call Blocker : 10000000\n",
      "CallApp: Caller ID, Blocker & Phone Call Recorder : 10000000\n",
      "Browser 4G : 10000000\n",
      "Adblock Browser for Android : 10000000\n",
      "AT&T Visual Voicemail : 10000000\n",
      "Your Freedom VPN Client : 5000000\n",
      "Web Browser & Explorer : 5000000\n",
      "Sync.ME – Caller ID & Block : 5000000\n",
      "Skype Lite - Free Video Call & Chat : 5000000\n",
      "My Vodacom SA : 5000000\n",
      "My Tele2 : 5000000\n",
      "Microsoft Edge : 5000000\n",
      "K-9 Mail : 5000000\n",
      "JusTalk - Free Video Calls and Fun Video Chat : 5000000\n",
      "Full Screen Caller ID : 5000000\n",
      "Ear Agent: Super Hearing : 5000000\n",
      "Daum Mail - Next Mail : 5000000\n",
      "Chrome Dev : 5000000\n",
      "Calls & Text by Mo+ : 5000000\n",
      "Caller ID & Call Block - DU Caller : 5000000\n",
      "Call Free – Free Call : 5000000\n",
      "Call Control - Call Blocker : 5000000\n",
      "CM Transfer - Share any files with friends nearby : 5000000\n",
      "CIA - Caller ID & Call Blocker : 5000000\n",
      "Brave Browser: Fast AdBlocker : 5000000\n",
      "Bluetooth Auto Connect : 5000000\n",
      "AT&T Call Protect : 5000000\n",
      "mysms SMS Text Messaging Sync : 1000000\n",
      "mail.com mail : 1000000\n",
      "Wi-Fi Auto-connect : 1000000\n",
      "Web Browser for Android : 1000000\n",
      "WeFi - Free Fast WiFi Connect & Find Wi-Fi Map : 1000000\n",
      "Vonage Mobile® Call Video Text : 1000000\n",
      "Virtual Walkie Talkie : 1000000\n",
      "Video Caller Id : 1000000\n",
      "True Contact - Real Caller ID : 1000000\n",
      "TracFone My Account : 1000000\n",
      "Tiny Call Confirm : 1000000\n",
      "Should I Answer? : 1000000\n",
      "Seznam.cz : 1000000\n",
      "Safest Call Blocker : 1000000\n",
      "SW-100.tch by Callstel : 1000000\n",
      "RocketDial Dialer & Contacts : 1000000\n",
      "PHONE for Google Voice & GTalk : 1000000\n",
      "Ninesky Browser : 1000000\n",
      "Newton Mail - Email App for Gmail, Outlook, IMAP : 1000000\n",
      "My magenta : 1000000\n",
      "My Vodafone (GR) : 1000000\n",
      "Messaging+ SMS, MMS Free : 1000000\n",
      "Lite for Facebook Messenger : 1000000\n",
      "InBrowser - Incognito Browsing : 1000000\n",
      "Ghostery Privacy Browser : 1000000\n",
      "Firefox Focus: The privacy browser : 1000000\n",
      "Email TypeApp - Mail App : 1000000\n",
      "DW Contacts & Phone & Dialer : 1000000\n",
      "ClanPlay: Community and Tools for Gamers : 1000000\n",
      "Caller ID + : 1000000\n",
      "Call Blocker - Blacklist, SMS Blocker : 1000000\n",
      "CB Radio Chat - for friends! : 1000000\n",
      "Burner - Free Phone Number : 1000000\n",
      "BBMoji - Your personalized BBM Stickers : 1000000\n",
      "AntennaPict β : 1000000\n",
      "All Email Providers : 1000000\n",
      "Adblock Plus for Samsung Internet - Browse safe. : 1000000\n",
      "AW - free video calls and chat : 1000000\n",
      "AT&T Messages for Tablet : 1000000\n",
      "2ndLine - Second Phone Number : 1000000\n",
      "Web Browser : 500000\n",
      "U - Webinars, Meetings & Messenger : 500000\n",
      "TownWiFi | Wi-Fi Everywhere : 500000\n",
      "Talkie - Wi-Fi Calling, Chats, File Sharing : 500000\n",
      "SolMail - All-in-One email app : 500000\n",
      "LokLok: Draw on a Lock Screen : 500000\n",
      "Lightning Web Browser : 500000\n",
      "FreedomPop Messaging Phone/SIM : 500000\n",
      "BD Data Plan (3G & 4G) : 500000\n",
      "WiFi Access Point (hotspot) : 100000\n",
      "T-Mobile DIGITS : 100000\n",
      "QRZ Assistant : 100000\n",
      "Portable Wi-Fi hotspot Free : 100000\n",
      "PlacarTv Futebol Ao Vivo : 100000\n",
      "Morse Code Reader : 100000\n",
      "M star Dialer : 100000\n",
      "K-@ Mail - Email App : 100000\n",
      "Goodbox - Mega App : 100000\n",
      "Everbridge : 100000\n",
      "Channel 19 : 100000\n",
      "CB On Mobile : 100000\n",
      "Baby Monitor AV : 100000\n",
      "BT MeetMe with Dolby Voice : 100000\n",
      "Antillean Gold Telegram (original version) : 100000\n",
      "AZ Browser. Private & Download : 100000\n",
      "X Browser : 50000\n",
      "N-Com Wizard : 50000\n",
      "My BF App : 50000\n",
      "IZ2UUF Morse Koch CW : 50000\n",
      "HipChat - beta version : 50000\n",
      "Free Wi-fi HotspoT : 50000\n",
      "BT Messenger : 50000\n",
      "BD Internet Packages (Updated) : 50000\n",
      "AudioBT: BT audio GPS/SMS/Text : 50000\n",
      "3G DZ Configuration : 50000\n",
      "m:go BiH : 10000\n",
      "[verify-U] VideoIdent : 10000\n",
      "Ring : 10000\n",
      "Pocket Prefix Plus : 10000\n",
      "Mail1Click - Secure Mail : 10000\n",
      "Jazz Wi-Fi : 10000\n",
      "Inbox.eu : 10000\n",
      "Ham Radio Prefixes : 10000\n",
      "Feel Performer : 10000\n",
      "Eg Call : 10000\n",
      "EZ Wifi Notification : 10000\n",
      "Deaf World DW : 10000\n",
      "DMR BrandMeister Tool : 10000\n",
      "ClanHQ : 10000\n",
      "BT One Phone Mobile App : 10000\n",
      "BF Browser by Betfilter - Stop Gambling Today! : 10000\n",
      "BD Dialer : 10000\n",
      "Ad Blocker Turbo - Adblocker Browser : 10000\n",
      "Access Point Names : 10000\n",
      "/u/app : 10000\n",
      "retteMi.ch : 5000\n",
      "mail.co.uk Mail : 5000\n",
      "love sms good morning : 5000\n",
      "Sat-Fi : 5000\n",
      "Mircules DX Cluster Lite : 5000\n",
      "Learn Morse Code - G0HYN Learn Morse : 5000\n",
      "K-9 Material (unofficial) : 5000\n",
      "Ham DX Cluster & Spots Finder : 5000\n",
      "DM for WhatsApp : 5000\n",
      "DM Talk New : 5000\n",
      "Council Voting Calculator : 5000\n",
      "CS Browser Beta : 5000\n",
      "BT One Voice mobile access : 5000\n",
      "BD Live Call : 5000\n",
      "AK Phone : 5000\n",
      "AG Contacts, Lite edition : 5000\n",
      "cluster.dk : 1000\n",
      "Sat-Fi Voice : 1000\n",
      "SMS Sender - sluzba.cz : 1000\n",
      "ReadyOp DT : 1000\n",
      "FO AIRBUS TLSE : 1000\n",
      "FC Browser - Focus Privacy Browser : 1000\n",
      "EU Council : 1000\n",
      "DM Tracker : 1000\n",
      "Call Blocker & Blacklist : 1000\n",
      "CS Customizer : 1000\n",
      "CS Browser | #1 & BEST BROWSER : 1000\n",
      "CQ-Mobile : 1000\n",
      "BlueDV AMBE : 1000\n",
      "BQ Partners : 1000\n",
      "BN MALLORCA Radio : 1000\n",
      "BK Chat : 1000\n",
      "BH Mail : 1000\n",
      "AV Phone : 1000\n",
      "AU Call Blocker - Block Unwanted Calls Texts 2018 : 1000\n",
      "Traffic signs BD : 500\n",
      "Rádio Sol Nascente DF : 500\n",
      "Have your say on Europe : 500\n",
      "ES-1 : 500\n",
      "CW BLE Peripheral Simulator : 500\n",
      "CQ-Alert : 500\n",
      "Best Auto Call Recorder Free : 500\n",
      "ATC Unico BS : 500\n",
      "tournaments and more.aj.2 : 100\n",
      "chat dz : 100\n",
      "[EF]ShoutBox : 100\n",
      "Programi podrške EU : 100\n",
      "MARKET FO : 100\n",
      "Katalogen.ax : 100\n",
      "FP Connect : 100\n",
      "FO STELIA Méaulte : 100\n",
      "FO SODEXO : 100\n",
      "FO RCBT : 100\n",
      "FO PSA Sept-Fons : 100\n",
      "FO OP St-Nazaire : 100\n",
      "FO Interim : 100\n",
      "FO AIRBUS Nantes : 100\n",
      "EP RSS Reader : 100\n",
      "EHiN-FH conferenceapp : 100\n",
      "DG Card : 100\n",
      "Cy Messenger : 100\n",
      "Carpooling FH Hagenberg : 100\n",
      "CW Bluetooth SPP : 100\n",
      "CJ DVD Rentals : 100\n",
      "CJ Browser - Fast & Private : 100\n",
      "CF Chat: Connecting Friends : 100\n",
      "C W Browser : 100\n",
      "Bee'ah Employee App : 100\n",
      "BV : 100\n",
      "Amadeus GR & CY : 100\n",
      "Aj.Petra : 100\n",
      "Hyundai CX Conference : 50\n",
      "DK TEL Dialer : 50\n",
      "Cb browser : 50\n",
      "BS-Mobile : 50\n",
      "AC-BL : 50\n",
      "ei : 10\n",
      "Oklahoma Ag Co-op Council : 10\n",
      "Hlášenírozhlasu.cz : 10\n",
      "FP Live : 10\n",
      "FNH Payment Info : 10\n",
      "FN Web Radio : 10\n",
      "Ek IRA : 10\n",
      "EO Mumbai : 10\n",
      "EJ messenger : 10\n",
      "DM - The Offical Messaging App : 10\n",
      "DK Browser : 10\n",
      "CK Call NEW : 10\n",
      "Best Browser BD social networking : 10\n",
      "BJ - Confidential : 10\n",
      "Test Server SMS FA : 5\n",
      "Of the wall Arapaho bk : 5\n",
      "BA SALES : 1\n"
     ]
    }
   ],
   "source": [
    "display_app_usrcount(google_dataset, 'COMMUNICATION', 1, 0, 5)"
   ]
  },
  {
   "cell_type": "markdown",
   "metadata": {},
   "source": [
    "In Communication category, we can see the same pattern as in App Store dataset. This category is highly influenced by some giant apps, such as : Whatsapp Messenger, Skype, Hangous, etc. If we explore further in other categories, we also can see the same pattern where average number of download in each category is also skewed by several apps. "
   ]
  },
  {
   "cell_type": "code",
   "execution_count": 65,
   "metadata": {},
   "outputs": [
    {
     "name": "stdout",
     "output_type": "stream",
     "text": [
      "YouTube : 1000000000\n",
      "Google Play Movies & TV : 1000000000\n",
      "MX Player : 500000000\n",
      "VivaVideo - Video Editor & Photo Movie : 100000000\n",
      "VideoShow-Video Editor, Video Maker, Beauty Camera : 100000000\n",
      "VLC for Android : 100000000\n",
      "Motorola Gallery : 100000000\n",
      "Motorola FM Radio : 100000000\n",
      "Dubsmash : 100000000\n",
      "Vote for : 50000000\n",
      "Vigo Video : 50000000\n",
      "VMate : 50000000\n",
      "Samsung Video Library : 50000000\n",
      "Ringdroid : 50000000\n",
      "MiniMovie - Free Video and Slideshow Editor : 50000000\n",
      "LIKE – Magic Video Maker & Community : 50000000\n",
      "KineMaster – Pro Video Editor : 50000000\n",
      "HD Video Downloader : 2018 Best video mate : 50000000\n",
      "DU Recorder – Screen Recorder, Video Editor, Live : 50000000\n",
      "video player for android : 10000000\n",
      "iMediaShare – Photos & Music : 10000000\n",
      "YouTube Studio : 10000000\n",
      "Video Player All Format : 10000000\n",
      "Video Downloader - for Instagram Repost App : 10000000\n",
      "Video Downloader : 10000000\n",
      "Ustream : 10000000\n",
      "Quik – Free Video Editor for photos, clips, music : 10000000\n",
      "PowerDirector Video Editor App: 4K, Slow Mo & More : 10000000\n",
      "Omlet Arcade - Stream, Meet, Play : 10000000\n",
      "Naruto Shippuden - Watch Free! : 10000000\n",
      "Music - Mp3 Player : 10000000\n",
      "Mobizen Screen Recorder for SAMSUNG : 10000000\n",
      "Magisto Video Editor & Maker : 10000000\n",
      "Inst Download - Video & Photo : 10000000\n",
      "HTC Service － DLNA : 10000000\n",
      "HTC Gallery : 10000000\n",
      "FrostWire: Torrent Downloader & Music Player : 10000000\n",
      "FilmoraGo - Free Video Editor : 10000000\n",
      "Code : 10000000\n",
      "Cartoon Network App : 10000000\n",
      "BitTorrent®- Torrent Downloads : 10000000\n",
      "BSPlayer FREE : 10000000\n",
      "All Video Downloader : 10000000\n",
      "AfreecaTV : 10000000\n",
      "AZ Screen Recorder - No Root : 10000000\n",
      "YouCut - Video Editor & Video Maker, No Watermark : 5000000\n",
      "WiFi Baby Monitor - NannyCam : 5000000\n",
      "Video Editor : 5000000\n",
      "HTC Service—Video Player : 5000000\n",
      "Droid Zap by Motorola : 5000000\n",
      "Adobe Premiere Clip : 5000000\n",
      "ActionDirector Video Editor - Edit Videos Fast : 5000000\n",
      "video player : 1000000\n",
      "iSmart DV : 1000000\n",
      "iPlayIT for YouTube VR Player : 1000000\n",
      "XX HD Video downloader-Free Video Downloader : 1000000\n",
      "Vuze Torrent Downloader : 1000000\n",
      "Video.Guru - Video Maker : 1000000\n",
      "Video Status : 1000000\n",
      "Video Editor,Crop Video,Movie Video,Music,Effects : 1000000\n",
      "VidPlay : 1000000\n",
      "VUE: video editor & camcorder : 1000000\n",
      "VPlayer : 1000000\n",
      "Tencent Video - Supporting the whole network : 1000000\n",
      "SVT Play : 1000000\n",
      "Play Tube : 1000000\n",
      "OnePlus Gallery : 1000000\n",
      "OBJECTIVE : 1000000\n",
      "Multiple Videos at Same Time : 1000000\n",
      "Mobizen Screen Recorder for LG - Record, Capture : 1000000\n",
      "Iqiyi (for tablet) : 1000000\n",
      "HD Video Player : 1000000\n",
      "HD Video Download for Facebook : 1000000\n",
      "HD Movie Video Player : 1000000\n",
      "G Guide Program Guide (SOFTBANK EMOBILE WILLCOM version) : 1000000\n",
      "Funny videos for whatsapp : 1000000\n",
      "EZCast – Cast Media to TV : 1000000\n",
      "DU Privacy-hide apps、sms、file : 1000000\n",
      "DS video : 1000000\n",
      "DS photo : 1000000\n",
      "BluTV : 1000000\n",
      "BSPlayer ARMv7 VFP CPU support : 1000000\n",
      "AndStream - Streaming Download : 1000000\n",
      "All Video Downloader 2018 : 1000000\n",
      "AX Player -Nougat Video Player : 1000000\n",
      "Video Player All Format for Android : 500000\n",
      "GoPlus Cam : 500000\n",
      "DR TV : 500000\n",
      "CJ VLC HD Remote (+ Stream) : 500000\n",
      "amazer - Global Kpop Video Community : 100000\n",
      "Video Downloader for FB : Video Download with Link : 100000\n",
      "Sketch 'n' go : 100000\n",
      "Nero AirBurn : 100000\n",
      "GoAction : 100000\n",
      "Free TV series : 100000\n",
      "Ez Screen Recorder (no ad) : 100000\n",
      "EZ Web Video Cast | Chromecast : 100000\n",
      "ES Audio Player ( Shortcut ) : 100000\n",
      "BGCN TV : 100000\n",
      "AW Screen Recorder No Root : 100000\n",
      "AB Repeat Player : 100000\n",
      "dv Prompter : 50000\n",
      "bgtime.tv : 50000\n",
      "ES-IPTV : 50000\n",
      "BR Series : 50000\n",
      "AX Video Player : 50000\n",
      "ACTIVEON CX & CX GOLD : 50000\n",
      "ek tuhi : 10000\n",
      "W Box VMS : 10000\n",
      "MelifeCam-M : 10000\n",
      "HD VideoDownlaoder For Fb : XXVideo Downloader : 10000\n",
      "HD Video Player (wmv,avi,mp4,flv,av,mpg,mkv)2017 : 10000\n",
      "EZ-SEE : 10000\n",
      "EZ Usenet for Easynews® : 10000\n",
      "EZ TV Player : 10000\n",
      "EML UPnP-AV Control Point : 10000\n",
      "Downvids Helper - One touch DW : 10000\n",
      "DG Video Editor : 10000\n",
      "DG UPnP Player Free : 10000\n",
      "Casper Ssinema : 10000\n",
      "BS player remote : 10000\n",
      "BK News Channel : 10000\n",
      "W Box VMS HD : 5000\n",
      "Videos downloader for Facebook:fast fb video saver : 5000\n",
      "Q-See Plus : 5000\n",
      "M-Sight Pro : 5000\n",
      "HD Video Player - Video & MP3 Player | AV Player | : 5000\n",
      "Furrion ES Control : 5000\n",
      "EF Sidekick : 5000\n",
      "DZ Popup Video Player : 5000\n",
      "DV Lottery Photo : 5000\n",
      "BR Video Player : 5000\n",
      "BG video - floating video - background video : 5000\n",
      "Ay : 5000\n",
      "A-B repeater : 5000\n",
      "4K VIDEO PLAYER ULTRA HD : 5000\n",
      "Music for Youtube - Tube Music BG, Red+ : 1000\n",
      "Movie Downloader Torrent : Az Torrent : 1000\n",
      "EZ game screen recorder with audio 1080P : 1000\n",
      "CINE BR : 1000\n",
      "BZ Langenthaler Tagblatt : 1000\n",
      "BC iptv player : 1000\n",
      "Ay Sabz Gunbad Waly : 1000\n",
      "AV-IPTV : 1000\n",
      "YourTube Video Views BG : 500\n",
      "Video Wallpaper Show : 500\n",
      "DG Screen Recorder : 500\n",
      "CX Monthly Tech News : 500\n",
      "CJ Camcorder : 500\n",
      "A-Z Screen Recorder - : 500\n",
      "List iptv FR : 100\n",
      "EC MANAGER : 100\n",
      "Bx-WiFi-GI : 100\n",
      "Bc Vod : 100\n",
      "BG MUSIC PLAYER - MUSIC PLAYER : 100\n",
      "AK Lodi Films : 100\n",
      "AJ Player : 100\n",
      "CI Stream : 10\n",
      "Art of F J Taylor : 10\n"
     ]
    }
   ],
   "source": [
    "display_app_usrcount(google_dataset, 'VIDEO_PLAYERS', 1, 0, 5)"
   ]
  },
  {
   "cell_type": "code",
   "execution_count": 67,
   "metadata": {
    "scrolled": false
   },
   "outputs": [
    {
     "name": "stdout",
     "output_type": "stream",
     "text": [
      "Instagram : 1000000000\n",
      "Google+ : 1000000000\n",
      "Facebook : 1000000000\n",
      "Snapchat : 500000000\n",
      "Facebook Lite : 500000000\n",
      "VK : 100000000\n",
      "Tumblr : 100000000\n",
      "Tik Tok - including musical.ly : 100000000\n",
      "Tango - Live Video Broadcast : 100000000\n",
      "Pinterest : 100000000\n",
      "LinkedIn : 100000000\n",
      "Badoo - Free Chat & Dating App : 100000000\n",
      "BIGO LIVE - Live Stream : 100000000\n",
      "ooVoo Video Calls, Messaging & Stories : 50000000\n",
      "Zello PTT Walkie Talkie : 50000000\n",
      "SKOUT - Meet, Chat, Go Live : 50000000\n",
      "POF Free Dating App : 50000000\n",
      "MeetMe: Chat & Meet New People : 50000000\n",
      "textPlus: Free Text & Calls : 10000000\n",
      "magicApp Calling & Messaging : 10000000\n",
      "YouNow: Live Stream Video Chat : 10000000\n",
      "We Heart It : 10000000\n",
      "Waplog - Free Chat, Dating App, Meet Singles : 10000000\n",
      "TextNow - free text + calls : 10000000\n",
      "Text free - Free Text + Call : 10000000\n",
      "Text Me: Text Free, Call Free, Second Phone Number : 10000000\n",
      "Tapatalk - 100,000+ Forums : 10000000\n",
      "Tagged - Meet, Chat & Dating : 10000000\n",
      "SayHi Chat, Meet New People : 10000000\n",
      "Quora : 10000000\n",
      "Phone Tracker : Family Locator : 10000000\n",
      "Periscope - Live Video : 10000000\n",
      "Path : 10000000\n",
      "Mico- Stranger Chat Random video Chat, Live, Meet : 10000000\n",
      "Messenger Messenger : 10000000\n",
      "Messenger : 10000000\n",
      "Messages, Text and Video Chat for Messenger : 10000000\n",
      "LiveMe - Video chat, new friends, and make money : 10000000\n",
      "Legend - Animate Text in Video : 10000000\n",
      "LOVOO : 10000000\n",
      "Kate Mobile for VK : 10000000\n",
      "Jaumo Dating, Flirt & Live Video : 10000000\n",
      "HTC Social Plugin - Facebook : 10000000\n",
      "Grindr - Gay chat : 10000000\n",
      "Free phone calls, free texting SMS on free number : 10000000\n",
      "Find My Friends : 10000000\n",
      "Dating App, Flirt & Chat : W-Match : 10000000\n",
      "Amino: Communities and Chats : 10000000\n",
      "Who Viewed My Facebook Profile - Stalkers Visitors : 5000000\n",
      "Whisper : 5000000\n",
      "Web Browser & Fast Explorer : 5000000\n",
      "VidStatus app - Status Videos & Status Downloader : 5000000\n",
      "Timehop : 5000000\n",
      "Text Free: WiFi Calling App : 5000000\n",
      "Telegram X : 5000000\n",
      "SPARK - Live random video chat & meet new people : 5000000\n",
      "Nextdoor - Local neighborhood news & classifieds : 5000000\n",
      "Meetup : 5000000\n",
      "Meet – Talk to Strangers Using Random Video Chat : 5000000\n",
      "Instachat 😜 : 5000000\n",
      "Hornet - Gay Social Network : 5000000\n",
      "Hide Something - Photo, Video : 5000000\n",
      "HOLLA Live: Meet New People via Random Video Chat : 5000000\n",
      "FunForMobile Ringtones & Chat : 5000000\n",
      "Frim: get new friends on local chat rooms : 5000000\n",
      "Fame Boom for Real Followers, Likes : 5000000\n",
      "Blogger : 5000000\n",
      "💘 WhatsLov: Smileys of love, stickers and GIF : 1000000\n",
      "pixiv : 1000000\n",
      "Wishbone - Compare Anything : 1000000\n",
      "VMate Lite - Funny Short Videos Social Network : 1000000\n",
      "U LIVE – Video Chat & Stream : 1000000\n",
      "TwitCasting Live : 1000000\n",
      "The Messenger App : 1000000\n",
      "Stickers for Facebook : 1000000\n",
      "Snaappy – 3D fun AR core communication platform : 1000000\n",
      "Moment : 1000000\n",
      "MobilePatrol Public Safety App : 1000000\n",
      "Messenger Pro : 1000000\n",
      "Love Sticker : 1000000\n",
      "Love Images : 1000000\n",
      "Lesbian Chat & Dating - SPICY : 1000000\n",
      "Jodel - The Hyperlocal App : 1000000\n",
      "GUYZ - Gay Chat & Gay Dating : 1000000\n",
      "Frontback - Social Photos : 1000000\n",
      "Friendly for Facebook : 1000000\n",
      "Free Messages, Video, Chat,Text for Messenger Plus : 1000000\n",
      "FollowMeter for Instagram : 1000000\n",
      "Fiesta by Tango - Find, Meet and Make New Friends : 1000000\n",
      "Faster for Facebook Lite : 1000000\n",
      "Family GPS tracker KidControl + GPS by SMS Locator : 1000000\n",
      "Facebook Local : 1000000\n",
      "Facebook Creator : 1000000\n",
      "EZ Video Download for Facebook : 1000000\n",
      "Couple - Relationship App : 1000000\n",
      "Banjo : 1000000\n",
      "BOO! - Next Generation Messenger : 1000000\n",
      "B-Messenger Video Chat : 1000000\n",
      "All Social Networks : 1000000\n",
      "+Download 4 Instagram Twitter : 1000000\n",
      "Web Browser ( Fast & Secure Web Explorer) : 500000\n",
      "Verdad o Reto : 500000\n",
      "Swift for Facebook Lite : 500000\n",
      "Stream - Live Video Community : 500000\n",
      "Qeek for Instagram - Zoom profile insta DP : 500000\n",
      "Puffin for Facebook : 500000\n",
      "Profile Tracker - Who Viewed My Facebook Profile : 500000\n",
      "Pink Color for Facebook : 500000\n",
      "Mirrativ: Live Stream Any App : 500000\n",
      "Greeting Cards & Wishes : 500000\n",
      "Gayvox - Gay Lesbian Bi Dating : 500000\n",
      "Fake Chat (Direct Message) : 500000\n",
      "Daddyhunt: Gay Dating : 500000\n",
      "Bloglovin' : 500000\n",
      "uCiC- Videos and Photos on demand : 100000\n",
      "YAY - TBH : 100000\n",
      "What U See : 100000\n",
      "The Video Messenger App : 100000\n",
      "Social network all in one 2018 : 100000\n",
      "See U - Random video chat, video chat : 100000\n",
      "Phoenix - Facebook & Messenger : 100000\n",
      "Patook - make platonic friends : 100000\n",
      "Meet U - Get Friends for Snapchat, Kik & Instagram : 100000\n",
      "MB Notifications for FB (Free) : 100000\n",
      "KPOP Amino for K-Pop Entertainment : 100000\n",
      "KDRAMA Amino for K-Drama Fans : 100000\n",
      "FutureNet your social app : 100000\n",
      "Fr Daoud Lamei : 100000\n",
      "Faster Social for Facebook : 100000\n",
      "Dr. B.R.Ambedkar : 100000\n",
      "Dr B R Ambedkar (Jai Bhim) : 100000\n",
      "Dating.dk : 100000\n",
      "DP and Status for WhatsApp 2018 : 100000\n",
      "Chat For Strangers - Video Chat : 100000\n",
      "Blogaway for Android (Blogger) : 100000\n",
      "Undertale AU Amino : 50000\n",
      "Rande.cz : 50000\n",
      "Hashtags For Likes.co : 50000\n",
      "Golden telegram : 50000\n",
      "FCB Connect - FC Barcelona : 50000\n",
      "Equestria Amino for MLP : 50000\n",
      "EXO-L Amino for EXO Fans : 50000\n",
      "CP Dialer : 50000\n",
      "BT Dating -Find your match, help cupid, be social : 50000\n",
      "Anime et Manga Amino en Français : 50000\n",
      "Unlimited Group Links - Whatsapp, FB, Telegram : 10000\n",
      "U-Report : 10000\n",
      "Stickers for Imo, fb, whatsapp : 10000\n",
      "Share G - Images Sharing - Wallpapers App : 10000\n",
      "Mini for Facebook lite : 10000\n",
      "Mali J : 10000\n",
      "Lite Messenger for Facebook Lite : 10000\n",
      "Jamaa Amino for Animal Jam : 10000\n",
      "Ek Maratha : 10000\n",
      "Eddsworld Amino : 10000\n",
      "Digi-TV.ch : 10000\n",
      "Daily Murli Saar Widget : 10000\n",
      "DM Me - Chat : 10000\n",
      "Cyprus Police : 10000\n",
      "Best DP and Status : 10000\n",
      "BT Communicator : 10000\n",
      "BK Traffic Control cum Chart : 10000\n",
      "Au Pair : 10000\n",
      "funny Image Comments for FB : 5000\n",
      "TNEB Bill Online Payment (Tamil) : 5000\n",
      "TN e Sevai TN EB Bill Patta Citta EC Birth All Hub : 5000\n",
      "Profile Pictures and DP for Whatsapp : 5000\n",
      "Instant DP Downloader for Instagram : 5000\n",
      "Dp for Facebook : 5000\n",
      "Dp For Whatsapp : 5000\n",
      "DP Display Pictures Life Quotes Motivational GM : 5000\n",
      "DM for IG 😘 - Image & Video Saver for Instagram : 5000\n",
      "DB Event App : 5000\n",
      "Check Your Visitors on FB ? : 5000\n",
      "signály.cz : 1000\n",
      "eChallan Andhra Pradesh (AP) : 1000\n",
      "Zdravei.BG : 1000\n",
      "V Bucks ProTips New : 1000\n",
      "TN EC Online New : 1000\n",
      "Students.ch : 1000\n",
      "Sabka Malik Ek Sai : 1000\n",
      "Noticias DF : 1000\n",
      "Media Sosial TNI AU : 1000\n",
      "Join R, Community Engagement : 1000\n",
      "H letter images : 1000\n",
      "European Solidarity Corps : 1000\n",
      "DW Streaming : 1000\n",
      "DC Comics Amino : 1000\n",
      "CG Districts : 1000\n",
      "Black Social : 1000\n",
      "BR Chat Bot : 1000\n",
      "BGKontakti Vienna BG Kontakti : 1000\n",
      "BGKontakti Bayern BG Kontakti : 1000\n",
      "BG LINKED (BGLINKED) : 1000\n",
      "Auto DM for Twitter 🔥 : 1000\n",
      "Alarm.fo – choose your info : 1000\n",
      "iCard BD Plus : 500\n",
      "Downloader plus for FB : 500\n",
      "DK Murali : 500\n",
      "DF BugMeNot : 500\n",
      "Br Browser : 500\n",
      "BGKontakti London BG Kontakti : 500\n",
      "i-share AF/KLM (AFKL ishare) : 100\n",
      "TN Patta /Chitta /EC New : 100\n",
      "Rejoin Your Ex : 100\n",
      "Naruto & Boruto FR : 100\n",
      "Myjob@BM : 100\n",
      "Movement BE : 100\n",
      "Message AI - Write Better Messages (Free) : 100\n",
      "GirlTalk.dk : 100\n",
      "Frases Cristianas de Esperanza y Fe : 100\n",
      "Evasion.bz : 100\n",
      "Eternal Light AG : 100\n",
      "Discípulos em BH : 100\n",
      "DV Statistics : 100\n",
      "DM Storage (for twitter) : 100\n",
      "CJ Gospel Hour : 100\n",
      "Alumni BJ : 100\n",
      "UP EB Bill Payment & Details : 50\n",
      "FB Advanced Search : 50\n",
      "EG Way Life : 50\n",
      "Coupe Adhémar EY 2017 : 50\n",
      "quran-DZ : 10\n",
      "bm-Events : 10\n",
      "Reisedealz.eu : 10\n",
      "Otto DM : 10\n",
      "News Dz : 10\n",
      "Hum Ek Hain 2.02 : 10\n",
      "EO RAIPUR : 10\n",
      "DN Blog : 10\n",
      "BA 3 Banjarmasin : 10\n",
      "CB Heroes : 5\n",
      "C.P. CERVANTES (TOBARRA) : 5\n",
      "BH Connect : 1\n",
      "Amleen Ey : 1\n",
      "Pekalongan CJ : 0\n"
     ]
    }
   ],
   "source": [
    "display_app_usrcount(google_dataset, 'SOCIAL', 1, 0, 5)"
   ]
  },
  {
   "cell_type": "code",
   "execution_count": 69,
   "metadata": {},
   "outputs": [
    {
     "name": "stdout",
     "output_type": "stream",
     "text": [
      "Google Photos : 1000000000\n",
      "Z Camera - Photo Editor, Beauty Selfie, Collage : 100000000\n",
      "YouCam Perfect - Selfie Photo Editor : 100000000\n",
      "YouCam Makeup - Magic Selfie Makeovers : 100000000\n",
      "Sweet Selfie - selfie camera, beauty cam, photo edit : 100000000\n",
      "S Photo Editor - Collage Maker , Photo Collage : 100000000\n",
      "Retrica : 100000000\n",
      "PicsArt Photo Studio: Collage Maker & Pic Editor : 100000000\n",
      "PhotoGrid: Video & Pic Collage Maker, Photo Editor : 100000000\n",
      "Photo Editor Pro : 100000000\n",
      "Photo Editor Collage Maker Pro : 100000000\n",
      "Photo Collage Editor : 100000000\n",
      "LINE Camera - Photo editor : 100000000\n",
      "Cymera Camera- Photo Editor, Filter,Collage,Layout : 100000000\n",
      "Candy Camera - selfie, beauty camera, photo editor : 100000000\n",
      "Camera360: Selfie Photo Editor with Funny Sticker : 100000000\n",
      "BeautyPlus - Easy Photo Editor & Selfie Camera : 100000000\n",
      "B612 - Beauty & Filter Camera : 100000000\n",
      "AR effect : 100000000\n",
      "Video Editor Music,Cut,No Crop : 50000000\n",
      "VSCO : 50000000\n",
      "Square InPic - Photo Editor & Collage Maker : 50000000\n",
      "Snapseed : 50000000\n",
      "Selfie Camera - Photo Editor & Filter & Sticker : 50000000\n",
      "SNOW - AR Camera : 50000000\n",
      "Pixlr – Free Photo Editor : 50000000\n",
      "Pic Collage - Photo Editor : 50000000\n",
      "PhotoWonder: Pro Beauty Photo Editor Collage Maker : 50000000\n",
      "Photo Lab Picture Editor: face effects, art frames : 50000000\n",
      "Photo Effects Pro : 50000000\n",
      "Photo Editor by Aviary : 50000000\n",
      "Photo Editor Selfie Camera Filter & Mirror Image : 50000000\n",
      "Motorola Camera : 50000000\n",
      "MomentCam Cartoons & Stickers : 50000000\n",
      "MakeupPlus - Your Own Virtual Makeup Artist : 50000000\n",
      "Keepsafe Photo Vault: Hide Private Photos & Videos : 50000000\n",
      "InstaSize Photo Filters & Collage Editor : 50000000\n",
      "InstaBeauty -Makeup Selfie Cam : 50000000\n",
      "Boomerang from Instagram : 50000000\n",
      "Adobe Photoshop Express:Photo Editor Collage Maker : 50000000\n",
      "ASUS Gallery : 50000000\n",
      "Wondershare PowerCam : 10000000\n",
      "Sweet Snap - live filter, Selfie photo edit : 10000000\n",
      "Sweet Camera - Selfie Filters, Beauty Camera : 10000000\n",
      "Scoompa Video - Slideshow Maker and Video Editor : 10000000\n",
      "RetroSelfie - Selfie Editor : 10000000\n",
      "Retro Camera : 10000000\n",
      "QuickPic - Photo Gallery with Google Drive Support : 10000000\n",
      "Pixlr-o-matic : 10000000\n",
      "PixelLab - Text on pictures : 10000000\n",
      "PhotoScan by Google Photos : 10000000\n",
      "PhotoLayers〜Superimpose,Eraser : 10000000\n",
      "PhotoFunia : 10000000\n",
      "PhotoDirector Photo Editor App : 10000000\n",
      "Photo Studio : 10000000\n",
      "Photo Mixer : 10000000\n",
      "Photo Frames : 10000000\n",
      "Photo Frame : 10000000\n",
      "Photo Editor by BeFunky : 10000000\n",
      "Photo Editor : 10000000\n",
      "Photo Collage Maker : 10000000\n",
      "Photo Collage - Layout Editor : 10000000\n",
      "Photo Collage - InstaMag : 10000000\n",
      "Phonto - Text on Photos : 10000000\n",
      "PIP Selfie Camera Photo Editor : 10000000\n",
      "Open Camera : 10000000\n",
      "No Crop & Square for Instagram : 10000000\n",
      "My Photo Keyboard : 10000000\n",
      "Mirror Photo:Editor Collage (HD) : 10000000\n",
      "Meitu – Beauty Cam, Easy Photo Editor : 10000000\n",
      "Love Collage - Photo Editor : 10000000\n",
      "LightX Photo Editor & Photo Effects : 10000000\n",
      "HD Camera for Android : 10000000\n",
      "HD Camera Ultra : 10000000\n",
      "GoPro (formerly Capture) : 10000000\n",
      "Free Slideshow Maker & Video Editor : 10000000\n",
      "Fotor Photo Editor - Photo Collage & Photo Effects : 10000000\n",
      "Font Studio- Photo Texts Image : 10000000\n",
      "Flickr : 10000000\n",
      "Facejjang : 10000000\n",
      "FaceApp : 10000000\n",
      "Face Filter, Selfie Editor - Sweet Camera : 10000000\n",
      "EyeEm - Camera & Photo Filter : 10000000\n",
      "Color Touch Effects : 10000000\n",
      "Candy selfie - photo editor, live filter camera : 10000000\n",
      "Cameringo Lite. Filters Camera : 10000000\n",
      "Camera360 Lite - Selfie Camera : 10000000\n",
      "Camera for Android : 10000000\n",
      "Camera MX - Free Photo & Video Camera : 10000000\n",
      "Camera FV-5 Lite : 10000000\n",
      "Bokeh (Background defocus) : 10000000\n",
      "Blur Image Background : 10000000\n",
      "Bestie - Camera360 Selfie : 10000000\n",
      "Beauty Makeup Snappy Collage Photo Editor - Lidow : 10000000\n",
      "Background Eraser : 10000000\n",
      "AfterFocus : 10000000\n",
      "ASUS PixelMaster Camera : 10000000\n",
      "A+ Gallery - Photos & Videos : 10000000\n",
      "Visage Lab – face retouch : 5000000\n",
      "Sweet Camera : 5000000\n",
      "SuperPhoto - Effects & Filters : 5000000\n",
      "Story Saver for Instagram : 5000000\n",
      "Silent Camera [High Quality] : 5000000\n",
      "Shutterfly: Free Prints, Photo Books, Cards, Gifts : 5000000\n",
      "Pretty Makeup, Beauty Photo Editor & Snappy Camera : 5000000\n",
      "Pixgram- video photo slideshow : 5000000\n",
      "Picture Grid Builder : 5000000\n",
      "Photo Editor- : 5000000\n",
      "Muzy - Share photos & collages : 5000000\n",
      "Moto Photo Editor : 5000000\n",
      "MIX by Camera360 : 5000000\n",
      "Huji Cam : 5000000\n",
      "High-Speed Camera (GIF,Burst) : 5000000\n",
      "HD Camera - Best Cam with filters & panorama : 5000000\n",
      "HD Camera : 5000000\n",
      "Ghost In Photo : 5000000\n",
      "Collage&Add Stickers papelook : 5000000\n",
      "Change photo background : 5000000\n",
      "Camera ZOOM FX - FREE : 5000000\n",
      "Blur Image Background Editor (Blur Photo Editor) : 5000000\n",
      "Blur Image - DSLR focus effect : 5000000\n",
      "Adobe Photoshop Fix : 5000000\n",
      "Adobe Illustrator Draw : 5000000\n",
      "A Better Camera : 5000000\n",
      "love : 1000000\n",
      "XDV : 1000000\n",
      "Waterfall Photo Frames : 1000000\n",
      "Video Maker with Photo and Music : 1000000\n",
      "Unicorn Photo : 1000000\n",
      "Ultimate Background Eraser : 1000000\n",
      "TouchNote: Cards & Gifts : 1000000\n",
      "Thumbnail Maker : 1000000\n",
      "Snapfish : 1000000\n",
      "Snap Cat Face Camera : 1000000\n",
      "Six Pack Abs Photo Editor : 1000000\n",
      "Selfie Photo Editor : 1000000\n",
      "Selfie Camera: Beauty Camera, Photo Editor,Collage : 1000000\n",
      "Samsung SMART CAMERA App : 1000000\n",
      "Pic Stitch - #1 Collage Maker : 1000000\n",
      "Phogy, 3D Camera : 1000000\n",
      "Pencil Photo Sketch-Sketching Drawing Photo Editor : 1000000\n",
      "Night Photo Frame : 1000000\n",
      "Mega Photo : 1000000\n",
      "Makeup Photo Editor: Makeup Camera & Makeup Editor : 1000000\n",
      "Makeup Editor -Beauty Photo Editor & Selfie Camera : 1000000\n",
      "LightMeter Free : 1000000\n",
      "LALALAB prints your photos, photobooks and magnets : 1000000\n",
      "Kids Photo Frames : 1000000\n",
      "KVAD Camera +: Selfie, Photo Filter, Grids : 1000000\n",
      "InstaCam - Camera for Selfie : 1000000\n",
      "Insave-Download for Instagram : 1000000\n",
      "Hypocam : 1000000\n",
      "HD Camera Pro for Android : 1000000\n",
      "HD Camera - silent shutter : 1000000\n",
      "HD Camera - Quick Snap Photo & Video : 1000000\n",
      "FreePrints – Free Photos Delivered : 1000000\n",
      "Footej Camera : 1000000\n",
      "FilterGrid - Cam&Photo Editor : 1000000\n",
      "F-Stop Gallery : 1000000\n",
      "Ez iCam : 1000000\n",
      "DSLR Camera Hd Ultra Professional : 1000000\n",
      "Cut Out : Background Eraser and background changer : 1000000\n",
      "Canon CameraWindow : 1000000\n",
      "Camera51 - a smarter camera : 1000000\n",
      "Camera Pro : 1000000\n",
      "Blur : 1000000\n",
      "Beauty Makeup – Photo Makeover : 1000000\n",
      "BQ Camera : 1000000\n",
      "Auto Background Changer : 1000000\n",
      "Afterlight : 1000000\n",
      "Add Watermark Free : 1000000\n",
      "Add Text To Photo : 1000000\n",
      "easyFocus : 500000\n",
      "camera zoom moon : 500000\n",
      "U Camera : Phone 6s OS 9 style : 500000\n",
      "Sweet Snap Lite - live filter, Selfie photo editor : 500000\n",
      "How Do I Look : 500000\n",
      "Groovebook Photo Books & Gifts : 500000\n",
      "Garden Photo Frames - Garden Photo Editor : 500000\n",
      "DU GIF Maker: GIF Maker, Video to GIF & GIF Editor : 500000\n",
      "Brica BPRO5 AE : 500000\n",
      "Blurfoto : Auto blur photo background & DSLR focus : 500000\n",
      "Background Changer & Eraser : 500000\n",
      "BT Camera : 500000\n",
      "ez Share Android app : 100000\n",
      "V.360° Camera : 100000\n",
      "SportLook : 100000\n",
      "Picai - Smart AI Camera : 100000\n",
      "Photo frame : 100000\n",
      "Gold Teeth Photo Editor : 100000\n",
      "Fifa World Cup 2018: Photo Frame Editor & DP Maker : 100000\n",
      "DU Collage Maker - Photo Collage & Grid & Layout : 100000\n",
      "DSLR Photography Training apps : 100000\n",
      "DP Maker : 100000\n",
      "DP Creator for WhatsApp : 100000\n",
      "Cover Camera for FB : 100000\n",
      "Camera V7 24 Megapixel : 100000\n",
      "Black & White Camera - Lovely BW : 100000\n",
      "B Tiff Viewer : 100000\n",
      "AZ Camera - Manual Pro Cam : 100000\n",
      "4K Ultra Camera : 100000\n",
      "24 megapixel hd camera : 100000\n",
      "Wifi Action Camera : 50000\n",
      "Moony Lab - Print Photos, Books & Magnets ™ : 50000\n",
      "DV Lottery Photo Tool : 50000\n",
      "DP Status 2017 : 50000\n",
      "BlitzWolf Shutter - BW Shutter : 50000\n",
      "B&W Photo Filter Editor : 50000\n",
      "Z Camera : 10000\n",
      "Square DP For Whatsapp : 10000\n",
      "Profile w/o crop for Telegram : 10000\n",
      "Night Camera Blur Effect : 10000\n",
      "Leica Q : 10000\n",
      "FN Cam : 10000\n",
      "FH WiFiCam : 10000\n",
      "DSLR camera - Auto Focus and Blur Professional : 10000\n",
      "DP Photo Editor : 10000\n",
      "DF Night Selfies : 10000\n",
      "DENVER ACTION CAM 3 : 10000\n",
      "Be Fabulous PHOTO BOOTH : 10000\n",
      "BL 1-Click Camera - Free : 10000\n",
      "Insta Square Profile DP : 5000\n",
      "FL Drone 2 : 5000\n",
      "DP Editor : 5000\n",
      "CB Edits PNG & CB Backgrounds : 5000\n",
      "Photo Editor - BPhoto : 1000\n",
      "Photo BG Changer : 1000\n",
      "PIP-Camera FN Photo Effect : 1000\n",
      "Magical Insta DP : 1000\n",
      "Live DV : 1000\n",
      "Light Meter - EV : 1000\n",
      "Leica CL : 1000\n",
      "FB Photographie : 1000\n",
      "Dp For FB : 1000\n",
      "DV-4036 by Somikon : 1000\n",
      "DS-L4 Viewer : 1000\n",
      "BK Photography : 1000\n",
      "Auto Dslr Photo Effect : Auto Focus Effect : 1000\n",
      "All Types DP & Status Maker : 1000\n",
      "AEE AP : 1000\n",
      "Selfie With Champion AJ Style : 500\n",
      "DC-014 : 500\n",
      "CB Hair Png - New Hair Png For CB Editing : 500\n",
      "BC Camera : 500\n",
      "AI Image Recognizer (beta) : 500\n",
      "Wallpaper.cz : 100\n",
      "LC-DB-LITE : 100\n",
      "FD Fotografia : 100\n",
      "DV KING 4K : 100\n",
      "DV KING : 100\n",
      "CG Prints : 100\n",
      "CB VIDEO VISION : 100\n",
      "Blender BG - Photo Blend With Background : 100\n",
      "BL Portfolio : 100\n",
      "Analog BW - Camera filter effect foto film retouch : 100\n",
      "AJ Cam : 100\n",
      "A.J. Styles HD Wallpapers 2018 : 100\n",
      "Touch DV : 50\n",
      "Displaying You VR : 50\n",
      "i am EB : 10\n",
      "BG Editor : 5\n"
     ]
    }
   ],
   "source": [
    "display_app_usrcount(google_dataset, 'PHOTOGRAPHY', 1, 0, 5)"
   ]
  },
  {
   "cell_type": "code",
   "execution_count": 70,
   "metadata": {},
   "outputs": [
    {
     "name": "stdout",
     "output_type": "stream",
     "text": [
      "Google Play Books : 1000000000\n",
      "Wattpad 📖 Free Books : 100000000\n",
      "Bible : 100000000\n",
      "Audiobooks from Audible : 100000000\n",
      "Amazon Kindle : 100000000\n",
      "Wikipedia : 10000000\n",
      "Spanish English Translator : 10000000\n",
      "Quran for Android : 10000000\n",
      "Oxford Dictionary of English : Free : 10000000\n",
      "NOOK: Read eBooks & Magazines : 10000000\n",
      "Moon+ Reader : 10000000\n",
      "JW Library : 10000000\n",
      "HTC Help : 10000000\n",
      "FBReader: Favorite Book Reader : 10000000\n",
      "English Hindi Dictionary : 10000000\n",
      "English Dictionary - Offline : 10000000\n",
      "Dictionary.com: Find Definitions for English Words : 10000000\n",
      "Dictionary - Merriam-Webster : 10000000\n",
      "Dictionary : 10000000\n",
      "Cool Reader : 10000000\n",
      "Aldiko Book Reader : 10000000\n",
      "Al-Quran (Free) : 10000000\n",
      "Al'Quran Bahasa Indonesia : 10000000\n",
      "Al Quran Indonesia : 10000000\n",
      "Read books online : 5000000\n",
      "English to Hindi Dictionary : 5000000\n",
      "Ebook Reader : 5000000\n",
      "Dictionary - WordWeb : 5000000\n",
      "Bible KJV : 5000000\n",
      "Ancestry : 5000000\n",
      "AlReader -any text book reader : 5000000\n",
      "Al Quran : EAlim - Translations & MP3 Offline : 5000000\n",
      "50000 Free eBooks & Free AudioBooks : 5000000\n",
      "wikiHow: how to do anything : 1000000\n",
      "eBoox: book reader fb2 epub zip : 1000000\n",
      "Stats Royale for Clash Royale : 1000000\n",
      "Satellite AR : 1000000\n",
      "ReadEra – free ebook reader : 1000000\n",
      "Oxford A-Z of English Usage : 1000000\n",
      "My Little Pony AR Guide : 1000000\n",
      "Koran Read &MP3 30 Juz Offline : 1000000\n",
      "Hafizi Quran 15 lines per page : 1000000\n",
      "Golden Dictionary (EN-AR) : 1000000\n",
      "Free Books - Spirit Fanfiction and Stories : 1000000\n",
      "FamilySearch Tree : 1000000\n",
      "English-Myanmar Dictionary : 1000000\n",
      "EGW Writings : 1000000\n",
      "Cloud of Books : 1000000\n",
      "Brilliant Quotes: Life, Love, Family & Motivation : 1000000\n",
      "Book store : 1000000\n",
      "All Maths Formulas : 1000000\n",
      "All Language Translator Free : 1000000\n",
      "Al Quran Al karim : 1000000\n",
      "Youboox - Livres, BD et magazines : 500000\n",
      "SDA Sabbath School Quarterly : 500000\n",
      "Recipes of Prophetic Medicine for free : 500000\n",
      "Only 30 days in English, the guideline is guaranteed : 500000\n",
      "Offline: English to Tagalog Dictionary : 500000\n",
      "NOOK Audiobooks : 500000\n",
      "NOOK App for NOOK Devices : 500000\n",
      "Google I/O 2018 : 500000\n",
      "Golden Dictionary (FR-AR) : 500000\n",
      "Flybook : 500000\n",
      "English to Urdu Dictionary : 500000\n",
      "English Persian Dictionary : 500000\n",
      "English Grammar Complete Handbook : 500000\n",
      "Azpen eReader : 500000\n",
      "Al-Quran 30 Juz free copies : 500000\n",
      "Al Quran (Tafsir & by Word) : 500000\n",
      "cloudLibrary : 100000\n",
      "V Made : 100000\n",
      "URBANO V 02 instruction manual : 100000\n",
      "Surah Al-Waqiah : 100000\n",
      "Sabbath School : 100000\n",
      "Pdf Book Download - Read Pdf Book : 100000\n",
      "Offline English Dictionary : 100000\n",
      "Litnet - E-books : 100000\n",
      "Hymnes et Louanges : 100000\n",
      "How to Write CV : 100000\n",
      "Hisnul Al Muslim - Hisn Invocations & Adhkaar : 100000\n",
      "Guide (for X-MEN) : 100000\n",
      "Free Panda Radio Music : 100000\n",
      "Free Book Reader : 100000\n",
      "English translation from Bengali : 100000\n",
      "EGW Writings 2 : 100000\n",
      "Download free book with green book : 100000\n",
      "Bible with EGW Comments : 100000\n",
      "BakaReader EX : 100000\n",
      "Aab e Hayat Full Novel : 100000\n",
      "eBoox new: Reader for fb2 epub zip books : 50000\n",
      "SH-02J Owner's Manual (Android 8.0) : 50000\n",
      "La citadelle du musulman : 50000\n",
      "Fertilizer Removal By Crop : 50000\n",
      "EZ Quran : 50000\n",
      "E-Book Read - Read Book for free : 50000\n",
      "DV 2019 - EDV Photo & Form : 50000\n",
      "C Programs and Reference : 50000\n",
      "C Programs Handbook : 50000\n",
      "Bible du Semeur-BDS (French) : 50000\n",
      "Al-Muhaffiz : 50000\n",
      "TN Patta Citta & EC : 10000\n",
      "R Language Reference Guide : 10000\n",
      "Kristian Hla Bu : 10000\n",
      "Kinot & Eichah for Tisha B'Av : 10000\n",
      "Guide for DB Xenoverse 2 : 10000\n",
      "Guide for DB Xenoverse : 10000\n",
      "English To Shona Dictionary : 10000\n",
      "Easy Cv maker 2018 : 10000\n",
      "DV 2019 Entry Guide : 10000\n",
      "DM Screen : 10000\n",
      "Bulgarian French Dictionary Fr : 10000\n",
      "Borneo Bible, BM Bible : 10000\n",
      "Bootable Methods(USB-CD-DVD) : 10000\n",
      "BR Ambedkar Biography & Quotes : 10000\n",
      "BD All Sim Offer : 10000\n",
      "B&H Kids AR : 10000\n",
      "Ay Mohabbat Teri Khatir Novel : 10000\n",
      "Ay Hasnain k Nana Milad Naat : 10000\n",
      "Anonymous caller detection : 10000\n",
      "Ag PhD Field Guide : 10000\n",
      "Ag PhD Deficiencies : 10000\n",
      "Ae Allah na Dai (Rasa) : 10000\n",
      "AP Stamps and Registration : 10000\n",
      "Learn R Programming Full : 5000\n",
      "Learn CT Scan Of Head : 5000\n",
      "Fanfic-FR : 5000\n",
      "FA Part 1 & 2 Past Papers Solved Free – Offline : 5000\n",
      "EC - AP & Telangana : 5000\n",
      "Duaa Ek Ibaadat : 5000\n",
      "DC HSEMA : 5000\n",
      "CA Laws 2018 (California Laws and Codes) : 5000\n",
      "Browsery by Barnes & Noble : 5000\n",
      "Bilingual Dictionary Audio App : 5000\n",
      "B y H Niños ES : 5000\n",
      "AY Sing : 5000\n",
      "AW Tozer Devotionals - Daily : 5000\n",
      "AC Air condition Troubleshoot,Repair,Maintenance : 5000\n",
      "bp e-store : 1000\n",
      "Tozer Devotional -Series 1 : 1000\n",
      "The SCP Foundation DB fr nn5n : 1000\n",
      "The Pursuit of God : 1000\n",
      "SA HLA BU : 1000\n",
      "R Quick Reference Big Data : 1000\n",
      "R Programing Offline Tutorial : 1000\n",
      "Painting Lulu DC Super Friends : 1000\n",
      "La Fe de Jesus : 1000\n",
      "Greek Bible FP (Audio) : 1000\n",
      "Florida Statutes (FL Code) : 1000\n",
      "Florida - Pocket Brainbook : 1000\n",
      "Fix Error Google Playstore : 1000\n",
      "EU Data Protection : 1000\n",
      "EU Charter : 1000\n",
      "EP Research Service : 1000\n",
      "EB Annual Meetings : 1000\n",
      "Dr. Doug's Tips : 1000\n",
      "DV 2018 Winners Guide : 1000\n",
      "DC Public Library : 1000\n",
      "D. H. Lawrence Poems FREE : 1000\n",
      "Chemin (fr) : 1000\n",
      "CW Nuclear : 1000\n",
      "C Offline Tutorial : 1000\n",
      "BM Box : 1000\n",
      "BD Fishpedia : 1000\n",
      "Arizona Statutes, ARS (AZ Law) : 1000\n",
      "Ag PhD Soybean Diseases : 1000\n",
      "Ag PhD Planting Population Calculator : 1000\n",
      "AE Bulletins : 1000\n",
      "SDA Collegiate Quarterly : 500\n",
      "Modlitební knížka CZ : 500\n",
      "Learn SAP BW on HANA : 500\n",
      "Learn SAP BW : 500\n",
      "Le Fe de Jesus : 500\n",
      "La Fe de Jesús : 500\n",
      "Catholic La Bu Zo Kam : 500\n",
      "MOD Black for BM : 100\n",
      "EU IP Codes : 100\n",
      "Cypress College Library : 100\n",
      "CompactiMa EC pH Calibration : 100\n",
      "BU Alsace : 100\n",
      "Anime Mod for BM : 100\n",
      "GATE 21 years CS Papers(2011-2018 Solved) : 50\n",
      "A-J Media Vault : 50\n",
      "Learn R Programming : 10\n",
      "Khrifa Hla Bu (Solfa) : 10\n",
      "Guide for IMS DB : 10\n",
      "CY Spray nozzle : 10\n",
      "Guide for R Programming : 5\n",
      "EW PDF : 5\n",
      "CZ-Help : 5\n",
      "BibleRead En Cy Zh Yue : 5\n"
     ]
    }
   ],
   "source": [
    "display_app_usrcount(google_dataset, 'BOOKS_AND_REFERENCE', 1, 0, 5)"
   ]
  },
  {
   "cell_type": "markdown",
   "metadata": {},
   "source": [
    "Based on these data, we can consider taking Books and Reference category as our genre option for our application since it's fairly popular among users and not many big players in this category. Now, if we take a look at applications on Books and Reference category, we can assume that mostly is e-book reader apps and various of collections libraries and dictionaries. So, we will avoid developing this kind of applications since there'll be chance for some significant competitors. "
   ]
  },
  {
   "cell_type": "markdown",
   "metadata": {},
   "source": [
    "The list of application also shows that there are several apps built around popular books, such as : Bible, Al-Qur'an, etc. So, we can take several popular books and turn it into applications. But, we also need to give several features since there  are already library-like apps, like : discussion forums, quizzes, daily quotes, etc. "
   ]
  },
  {
   "cell_type": "markdown",
   "metadata": {},
   "source": [
    "# Conclusion"
   ]
  },
  {
   "cell_type": "markdown",
   "metadata": {},
   "source": [
    "Our main goal for this project is to give recommendation about genre of application that will be profiting both for Android and Apple market. The application will focus on user's engagement as its main source of revenues by displaying in-app advertisements and this application will also be free and for English-speaking users. For our analysis, we use Google Play Store and Apple App Store datasets containing records of applications available in both markets. \n",
    "\n",
    "Based on the analysis, we conclude that Books and Reference category will be promising for our apps. We will take several popular books and add several features, for example : daily quote, quizzes, discussion forum, and etc, since both markets is already full of libraries and by adding these features, we can increase time spent by users using our apps which also can increase our revenue. "
   ]
  }
 ],
 "metadata": {
  "kernelspec": {
   "display_name": "Python 3",
   "language": "python",
   "name": "python3"
  },
  "language_info": {
   "codemirror_mode": {
    "name": "ipython",
    "version": 3
   },
   "file_extension": ".py",
   "mimetype": "text/x-python",
   "name": "python",
   "nbconvert_exporter": "python",
   "pygments_lexer": "ipython3",
   "version": "3.7.3"
  }
 },
 "nbformat": 4,
 "nbformat_minor": 2
}
